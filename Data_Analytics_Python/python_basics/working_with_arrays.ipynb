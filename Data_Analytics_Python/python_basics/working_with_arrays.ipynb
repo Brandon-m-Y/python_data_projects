{
 "cells": [
  {
   "cell_type": "code",
   "execution_count": 1,
   "id": "b0242e09-db13-42f1-bb99-3f9c40103d44",
   "metadata": {},
   "outputs": [],
   "source": [
    "import numpy as np"
   ]
  },
  {
   "cell_type": "code",
   "execution_count": 3,
   "id": "25cd7a35-8f7d-40fc-9e29-3fb90f513024",
   "metadata": {},
   "outputs": [
    {
     "data": {
      "text/plain": [
       "array([[1, 2, 3],\n",
       "       [4, 5, 6]])"
      ]
     },
     "execution_count": 3,
     "metadata": {},
     "output_type": "execute_result"
    }
   ],
   "source": [
    "matrix_a = np.array([[1, 2, 3], [4, 5, 6]])\n",
    "matrix_a"
   ]
  },
  {
   "cell_type": "code",
   "execution_count": 7,
   "id": "dc80f4b2-9fea-404f-b12b-a02d790e7947",
   "metadata": {},
   "outputs": [
    {
     "data": {
      "text/plain": [
       "array([[1, 2, 3],\n",
       "       [4, 5, 6]])"
      ]
     },
     "execution_count": 7,
     "metadata": {},
     "output_type": "execute_result"
    }
   ],
   "source": [
    "matrix_a[:]"
   ]
  },
  {
   "cell_type": "code",
   "execution_count": 9,
   "id": "59eb4b0e-29f2-4a78-9fb8-990be6afe8cb",
   "metadata": {},
   "outputs": [
    {
     "data": {
      "text/plain": [
       "array([], shape=(0, 3), dtype=int32)"
      ]
     },
     "execution_count": 9,
     "metadata": {},
     "output_type": "execute_result"
    }
   ],
   "source": [
    "matrix_a[0:0]"
   ]
  },
  {
   "cell_type": "code",
   "execution_count": 11,
   "id": "7dbae759-cade-4189-834c-45cf21ec3fe2",
   "metadata": {},
   "outputs": [
    {
     "data": {
      "text/plain": [
       "array([[1, 2, 3]])"
      ]
     },
     "execution_count": 11,
     "metadata": {},
     "output_type": "execute_result"
    }
   ],
   "source": [
    "matrix_a[0:1]"
   ]
  },
  {
   "cell_type": "code",
   "execution_count": 13,
   "id": "ff109596-3ca6-4543-9f02-16a5fbec13c5",
   "metadata": {},
   "outputs": [
    {
     "data": {
      "text/plain": [
       "array([[1, 2, 3],\n",
       "       [4, 5, 6]])"
      ]
     },
     "execution_count": 13,
     "metadata": {},
     "output_type": "execute_result"
    }
   ],
   "source": [
    "matrix_a[0:2]"
   ]
  },
  {
   "cell_type": "code",
   "execution_count": 15,
   "id": "52d96688-af0f-4548-85f3-350d811c468b",
   "metadata": {},
   "outputs": [
    {
     "data": {
      "text/plain": [
       "array([[1, 2, 3],\n",
       "       [4, 5, 6]])"
      ]
     },
     "execution_count": 15,
     "metadata": {},
     "output_type": "execute_result"
    }
   ],
   "source": [
    "matrix_a[:,:]"
   ]
  },
  {
   "cell_type": "code",
   "execution_count": 17,
   "id": "d1ffe9fd-d987-45f7-bd62-0a353246b10e",
   "metadata": {},
   "outputs": [
    {
     "data": {
      "text/plain": [
       "numpy.ndarray"
      ]
     },
     "execution_count": 17,
     "metadata": {},
     "output_type": "execute_result"
    }
   ],
   "source": [
    "type(matrix_a[:,:])"
   ]
  },
  {
   "cell_type": "code",
   "execution_count": 19,
   "id": "6b5aab43-b920-4bf9-bdb2-ec49350234a2",
   "metadata": {},
   "outputs": [
    {
     "data": {
      "text/plain": [
       "array([[1, 2, 3]])"
      ]
     },
     "execution_count": 19,
     "metadata": {},
     "output_type": "execute_result"
    }
   ],
   "source": [
    "matrix_a[:1]"
   ]
  },
  {
   "cell_type": "code",
   "execution_count": 21,
   "id": "6971224f-db72-4789-8ec3-ab88db2ef94d",
   "metadata": {},
   "outputs": [
    {
     "data": {
      "text/plain": [
       "array([[4, 5, 6]])"
      ]
     },
     "execution_count": 21,
     "metadata": {},
     "output_type": "execute_result"
    }
   ],
   "source": [
    "matrix_a[1:]"
   ]
  },
  {
   "cell_type": "code",
   "execution_count": 25,
   "id": "2942f2f3-02d7-49f2-bf52-d1a654160b42",
   "metadata": {},
   "outputs": [
    {
     "data": {
      "text/plain": [
       "array([[2, 3],\n",
       "       [5, 6]])"
      ]
     },
     "execution_count": 25,
     "metadata": {},
     "output_type": "execute_result"
    }
   ],
   "source": [
    "matrix_a[:,1:] # takes all rows, and all columns from index 1 on"
   ]
  },
  {
   "cell_type": "code",
   "execution_count": 29,
   "id": "849974bf-9877-440b-82e2-17504ee80540",
   "metadata": {},
   "outputs": [
    {
     "data": {
      "text/plain": [
       "array([[5, 6]])"
      ]
     },
     "execution_count": 29,
     "metadata": {},
     "output_type": "execute_result"
    }
   ],
   "source": [
    "matrix_a[1:,1:]  # takes all values from row index 1, and column index 1 onwards (row 2, column 2)"
   ]
  },
  {
   "cell_type": "code",
   "execution_count": 31,
   "id": "60fa9880-49d7-4d6f-b5d1-64727d4f35fb",
   "metadata": {},
   "outputs": [
    {
     "data": {
      "text/plain": [
       "array([[1, 1, 1, 2, 0],\n",
       "       [3, 6, 6, 7, 4],\n",
       "       [4, 5, 3, 8, 0]])"
      ]
     },
     "execution_count": 31,
     "metadata": {},
     "output_type": "execute_result"
    }
   ],
   "source": [
    "matrix_b = np.array([[1, 1, 1, 2, 0], [3, 6, 6, 7, 4], [4, 5, 3, 8, 0]])\n",
    "matrix_b"
   ]
  },
  {
   "cell_type": "code",
   "execution_count": 33,
   "id": "9594e4c6-2d51-472e-afa5-08e3eeba537f",
   "metadata": {},
   "outputs": [
    {
     "data": {
      "text/plain": [
       "array([[1, 1, 1, 2, 0],\n",
       "       [3, 6, 6, 7, 4],\n",
       "       [4, 5, 3, 8, 0]])"
      ]
     },
     "execution_count": 33,
     "metadata": {},
     "output_type": "execute_result"
    }
   ],
   "source": [
    "matrix_b[:,:]"
   ]
  },
  {
   "cell_type": "code",
   "execution_count": 35,
   "id": "47901289-76f2-4e49-bed1-3f2c2a7de215",
   "metadata": {},
   "outputs": [
    {
     "data": {
      "text/plain": [
       "array([[1, 1, 1, 2, 0],\n",
       "       [3, 6, 6, 7, 4],\n",
       "       [4, 5, 3, 8, 0]])"
      ]
     },
     "execution_count": 35,
     "metadata": {},
     "output_type": "execute_result"
    }
   ],
   "source": [
    "matrix_b[::,::]  #Start, end, step - for each row and column"
   ]
  },
  {
   "cell_type": "code",
   "execution_count": 37,
   "id": "2e70e143-b33c-42d7-a9ef-f44092667d91",
   "metadata": {},
   "outputs": [
    {
     "data": {
      "text/plain": [
       "array([[1, 1, 1, 2, 0],\n",
       "       [4, 5, 3, 8, 0]])"
      ]
     },
     "execution_count": 37,
     "metadata": {},
     "output_type": "execute_result"
    }
   ],
   "source": [
    "matrix_b[::2,::]  # every other row"
   ]
  },
  {
   "cell_type": "code",
   "execution_count": 39,
   "id": "a637c45e-1f39-42e6-b196-ff342a1da1de",
   "metadata": {},
   "outputs": [
    {
     "data": {
      "text/plain": [
       "array([[1, 1, 0],\n",
       "       [3, 6, 4],\n",
       "       [4, 3, 0]])"
      ]
     },
     "execution_count": 39,
     "metadata": {},
     "output_type": "execute_result"
    }
   ],
   "source": [
    "matrix_b[::,::2] # every other column"
   ]
  },
  {
   "cell_type": "code",
   "execution_count": 41,
   "id": "0dba248c-542f-49a7-a150-51bbd0202564",
   "metadata": {},
   "outputs": [
    {
     "data": {
      "text/plain": [
       "array([[1, 1, 0],\n",
       "       [4, 3, 0]])"
      ]
     },
     "execution_count": 41,
     "metadata": {},
     "output_type": "execute_result"
    }
   ],
   "source": [
    "matrix_b[::2,::2]  # every other column and every other row"
   ]
  },
  {
   "cell_type": "code",
   "execution_count": 43,
   "id": "5ab162d1-8c86-4d68-b419-909d0f3ce94c",
   "metadata": {},
   "outputs": [
    {
     "data": {
      "text/plain": [
       "array([[4, 3, 0],\n",
       "       [1, 1, 0]])"
      ]
     },
     "execution_count": 43,
     "metadata": {},
     "output_type": "execute_result"
    }
   ],
   "source": [
    "matrix_b[::-2,::2] # traversing the array in reverse"
   ]
  },
  {
   "cell_type": "code",
   "execution_count": 45,
   "id": "0c99c101-e165-42dc-b894-88871a9b42bc",
   "metadata": {},
   "outputs": [
    {
     "data": {
      "text/plain": [
       "array([[4, 3, 0],\n",
       "       [1, 1, 0]])"
      ]
     },
     "execution_count": 45,
     "metadata": {},
     "output_type": "execute_result"
    }
   ],
   "source": [
    "matrix_b[-1::-2,::2]"
   ]
  },
  {
   "cell_type": "code",
   "execution_count": 47,
   "id": "d7371cc7-95eb-4701-a635-4f457b868fee",
   "metadata": {},
   "outputs": [
    {
     "data": {
      "text/plain": [
       "array([[4, 3, 0],\n",
       "       [3, 6, 4],\n",
       "       [1, 1, 0]])"
      ]
     },
     "execution_count": 47,
     "metadata": {},
     "output_type": "execute_result"
    }
   ],
   "source": [
    "matrix_b[-1::-1,::2]"
   ]
  },
  {
   "cell_type": "code",
   "execution_count": 49,
   "id": "dc66c780-e372-42ac-b88f-4a900ed7c088",
   "metadata": {},
   "outputs": [
    {
     "data": {
      "text/plain": [
       "array([[1, 1, 1, 2, 0],\n",
       "       [3, 6, 6, 7, 4],\n",
       "       [4, 5, 3, 8, 0]])"
      ]
     },
     "execution_count": 49,
     "metadata": {},
     "output_type": "execute_result"
    }
   ],
   "source": [
    "matrix_c = np.array([[1, 1, 1, 2, 0], [3, 6, 6, 7, 4], [4, 5, 3, 8, 0]])\n",
    "matrix_c"
   ]
  },
  {
   "cell_type": "code",
   "execution_count": 51,
   "id": "788168c7-fb83-4e58-bc15-91209a6bca19",
   "metadata": {},
   "outputs": [
    {
     "data": {
      "text/plain": [
       "array([1, 3, 4])"
      ]
     },
     "execution_count": 51,
     "metadata": {},
     "output_type": "execute_result"
    }
   ],
   "source": [
    "matrix_c[:,0]"
   ]
  },
  {
   "cell_type": "code",
   "execution_count": 55,
   "id": "182c865f-c970-4d4e-9006-18b7e4831ac0",
   "metadata": {},
   "outputs": [
    {
     "data": {
      "text/plain": [
       "array([False,  True,  True])"
      ]
     },
     "execution_count": 55,
     "metadata": {},
     "output_type": "execute_result"
    }
   ],
   "source": [
    "matrix_c[:,0] > 2  #Conditional slicing"
   ]
  },
  {
   "cell_type": "code",
   "execution_count": 58,
   "id": "f21a6a0e-8983-423b-9423-479dad780586",
   "metadata": {},
   "outputs": [
    {
     "data": {
      "text/plain": [
       "array([[False, False, False, False, False],\n",
       "       [ True,  True,  True,  True,  True],\n",
       "       [ True,  True,  True,  True, False]])"
      ]
     },
     "execution_count": 58,
     "metadata": {},
     "output_type": "execute_result"
    }
   ],
   "source": [
    "matrix_c[:,:] > 2 "
   ]
  },
  {
   "cell_type": "code",
   "execution_count": 62,
   "id": "e265fa22-1046-48a5-b62a-67d87a6f6c27",
   "metadata": {},
   "outputs": [
    {
     "data": {
      "text/plain": [
       "array([3, 6, 6, 7, 4, 4, 5, 3, 8])"
      ]
     },
     "execution_count": 62,
     "metadata": {},
     "output_type": "execute_result"
    }
   ],
   "source": [
    "matrix_c[matrix_c[:,:] > 2]    # shows only the values that fit the condition"
   ]
  },
  {
   "cell_type": "code",
   "execution_count": 64,
   "id": "28ef3665-bd97-4185-a421-56a11d9d67b4",
   "metadata": {},
   "outputs": [
    {
     "data": {
      "text/plain": [
       "array([2, 0, 6, 6, 4, 4, 8, 0])"
      ]
     },
     "execution_count": 64,
     "metadata": {},
     "output_type": "execute_result"
    }
   ],
   "source": [
    "matrix_c[matrix_c[:,:] % 2 == 0]"
   ]
  },
  {
   "cell_type": "code",
   "execution_count": 66,
   "id": "ef6587a3-dd5e-4166-8433-7e6c873c897a",
   "metadata": {},
   "outputs": [
    {
     "data": {
      "text/plain": [
       "array([2, 0, 4, 4, 0])"
      ]
     },
     "execution_count": 66,
     "metadata": {},
     "output_type": "execute_result"
    }
   ],
   "source": [
    "matrix_c[(matrix_c[:,:] % 2 == 0) & (matrix_c[:,:] <= 4)]"
   ]
  },
  {
   "cell_type": "code",
   "execution_count": 68,
   "id": "c2b2a873-9ea4-41f7-acdc-3da495265fee",
   "metadata": {},
   "outputs": [
    {
     "data": {
      "text/plain": [
       "array([1, 1, 1, 2, 0, 3, 6, 6, 4, 4, 3, 8, 0])"
      ]
     },
     "execution_count": 68,
     "metadata": {},
     "output_type": "execute_result"
    }
   ],
   "source": [
    "matrix_c[(matrix_c[:,:] % 2 == 0) | (matrix_c[:,:] <= 4)]"
   ]
  },
  {
   "cell_type": "code",
   "execution_count": 70,
   "id": "db7e7bf0-1224-4dc6-9c44-e102a19fa568",
   "metadata": {},
   "outputs": [
    {
     "data": {
      "text/plain": [
       "array([[1, 1, 1, 2, 0],\n",
       "       [3, 6, 6, 7, 4],\n",
       "       [4, 5, 3, 8, 0]])"
      ]
     },
     "execution_count": 70,
     "metadata": {},
     "output_type": "execute_result"
    }
   ],
   "source": [
    "matrix_d = np.array([[1, 1, 1, 2, 0], [3, 6, 6, 7, 4], [4, 5, 3, 8, 0]])\n",
    "matrix_d"
   ]
  },
  {
   "cell_type": "code",
   "execution_count": 72,
   "id": "67f39915-b60c-42fd-972e-70b4862378d1",
   "metadata": {},
   "outputs": [
    {
     "data": {
      "text/plain": [
       "numpy.int32"
      ]
     },
     "execution_count": 72,
     "metadata": {},
     "output_type": "execute_result"
    }
   ],
   "source": [
    "type(matrix_d[0,0])"
   ]
  },
  {
   "cell_type": "code",
   "execution_count": 74,
   "id": "7cd1e392-8aa4-4a2c-a30e-f3630f26d406",
   "metadata": {},
   "outputs": [
    {
     "name": "stdout",
     "output_type": "stream",
     "text": [
      "1\n"
     ]
    }
   ],
   "source": [
    "print(matrix_d[0,0])"
   ]
  },
  {
   "cell_type": "code",
   "execution_count": 76,
   "id": "eb24b99b-9b96-4f8c-81ed-4c3575cb317f",
   "metadata": {},
   "outputs": [
    {
     "data": {
      "text/plain": [
       "numpy.ndarray"
      ]
     },
     "execution_count": 76,
     "metadata": {},
     "output_type": "execute_result"
    }
   ],
   "source": [
    "type(matrix_d[0,0:1])"
   ]
  },
  {
   "cell_type": "code",
   "execution_count": 90,
   "id": "a4311528-998a-44b2-a9c3-6ebb76f19394",
   "metadata": {},
   "outputs": [
    {
     "name": "stdout",
     "output_type": "stream",
     "text": [
      "[1 1]\n"
     ]
    }
   ],
   "source": [
    "print(matrix_d[0,0: 2:])"
   ]
  },
  {
   "cell_type": "code",
   "execution_count": 92,
   "id": "1d090471-13a5-4cd6-85ab-4c8177e1ee69",
   "metadata": {},
   "outputs": [
    {
     "data": {
      "text/plain": [
       "numpy.ndarray"
      ]
     },
     "execution_count": 92,
     "metadata": {},
     "output_type": "execute_result"
    }
   ],
   "source": [
    "type(matrix_d[0:1, 0:1])"
   ]
  },
  {
   "cell_type": "code",
   "execution_count": 94,
   "id": "2cccdb69-1298-46d1-8be5-c16992b75cdf",
   "metadata": {},
   "outputs": [
    {
     "name": "stdout",
     "output_type": "stream",
     "text": [
      "[[1]]\n"
     ]
    }
   ],
   "source": [
    "print(matrix_d[0:1, 0:1])"
   ]
  },
  {
   "cell_type": "code",
   "execution_count": 96,
   "id": "cd5ac832-a0ce-442d-9ba4-a00925ce8860",
   "metadata": {},
   "outputs": [
    {
     "name": "stdout",
     "output_type": "stream",
     "text": [
      "()\n",
      "(1,)\n",
      "(1, 1)\n"
     ]
    }
   ],
   "source": [
    "print(matrix_d[0,0].shape)\n",
    "print(matrix_d[0,0: 1].shape)\n",
    "print(matrix_d[0:1, 0:1].shape)\n"
   ]
  },
  {
   "cell_type": "code",
   "execution_count": 100,
   "id": "118a99b9-988b-4b00-adff-0cbb80737f4f",
   "metadata": {},
   "outputs": [
    {
     "data": {
      "text/plain": [
       "array(1)"
      ]
     },
     "execution_count": 100,
     "metadata": {},
     "output_type": "execute_result"
    }
   ],
   "source": [
    "matrix_d[0:1, 0:1].squeeze()"
   ]
  },
  {
   "cell_type": "code",
   "execution_count": 102,
   "id": "2d63b054-a44d-4c61-9127-658dc535e464",
   "metadata": {},
   "outputs": [
    {
     "data": {
      "text/plain": [
       "numpy.ndarray"
      ]
     },
     "execution_count": 102,
     "metadata": {},
     "output_type": "execute_result"
    }
   ],
   "source": [
    "type(matrix_d[0:1, 0:1].squeeze())"
   ]
  },
  {
   "cell_type": "code",
   "execution_count": 104,
   "id": "ef1be86a-eef2-4b92-bac6-c77d676db8ca",
   "metadata": {},
   "outputs": [
    {
     "data": {
      "text/plain": [
       "()"
      ]
     },
     "execution_count": 104,
     "metadata": {},
     "output_type": "execute_result"
    }
   ],
   "source": [
    "matrix_d[0:1, 0:1].squeeze().shape"
   ]
  },
  {
   "cell_type": "code",
   "execution_count": 106,
   "id": "074ba5eb-5b55-43c9-b951-5f3694ffb254",
   "metadata": {},
   "outputs": [
    {
     "name": "stdout",
     "output_type": "stream",
     "text": [
      "1\n"
     ]
    }
   ],
   "source": [
    "print(matrix_d[0:1, 0:1].squeeze())"
   ]
  },
  {
   "cell_type": "code",
   "execution_count": 108,
   "id": "d830b652-545c-49c5-b5d8-252132e33c9e",
   "metadata": {},
   "outputs": [
    {
     "data": {
      "text/plain": [
       "array(1)"
      ]
     },
     "execution_count": 108,
     "metadata": {},
     "output_type": "execute_result"
    }
   ],
   "source": [
    "np.squeeze(matrix_c[0:1,0:1])"
   ]
  },
  {
   "cell_type": "code",
   "execution_count": 112,
   "id": "e661222a-f5b4-4690-91e9-61ad487b4cfa",
   "metadata": {},
   "outputs": [
    {
     "name": "stdout",
     "output_type": "stream",
     "text": [
      "()\n",
      "()\n",
      "()\n"
     ]
    }
   ],
   "source": [
    "print(matrix_d[0,0].squeeze().shape)\n",
    "print(matrix_d[0,0: 1].squeeze().shape)\n",
    "print(matrix_d[0:1, 0:1].squeeze().shape)"
   ]
  },
  {
   "cell_type": "code",
   "execution_count": null,
   "id": "4bee661c-fbc3-4e7a-bea8-9fa89a587bc5",
   "metadata": {},
   "outputs": [],
   "source": []
  }
 ],
 "metadata": {
  "kernelspec": {
   "display_name": "Python 3 (ipykernel)",
   "language": "python",
   "name": "python3"
  },
  "language_info": {
   "codemirror_mode": {
    "name": "ipython",
    "version": 3
   },
   "file_extension": ".py",
   "mimetype": "text/x-python",
   "name": "python",
   "nbconvert_exporter": "python",
   "pygments_lexer": "ipython3",
   "version": "3.12.7"
  }
 },
 "nbformat": 4,
 "nbformat_minor": 5
}
