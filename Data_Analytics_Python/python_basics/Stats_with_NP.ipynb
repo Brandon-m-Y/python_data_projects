{
 "cells": [
  {
   "cell_type": "code",
   "execution_count": 1,
   "id": "9c0889bd-8cf3-4a51-a733-94894c6c90ae",
   "metadata": {},
   "outputs": [],
   "source": [
    "import numpy as np"
   ]
  },
  {
   "cell_type": "code",
   "execution_count": 7,
   "id": "6f0e092a-43d5-40e2-8c84-71c02a80aecd",
   "metadata": {},
   "outputs": [
    {
     "data": {
      "text/plain": [
       "array([[1, 0, 0, 3, 1],\n",
       "       [3, 6, 6, 2, 9],\n",
       "       [4, 5, 3, 8, 0]])"
      ]
     },
     "execution_count": 7,
     "metadata": {},
     "output_type": "execute_result"
    }
   ],
   "source": [
    "matrix_a = np.array([[1,0,0,3,1], [3,6,6,2,9], [4,5,3,8,0]])\n",
    "matrix_a"
   ]
  },
  {
   "cell_type": "code",
   "execution_count": 5,
   "id": "684ba78f-7fd7-4016-a7d3-84a06b577a2e",
   "metadata": {},
   "outputs": [
    {
     "data": {
      "text/plain": [
       "3.4"
      ]
     },
     "execution_count": 5,
     "metadata": {},
     "output_type": "execute_result"
    }
   ],
   "source": [
    "np.mean(matrix_a)"
   ]
  },
  {
   "cell_type": "code",
   "execution_count": 7,
   "id": "98f65792-14d4-4604-93ab-cba84bf2a728",
   "metadata": {},
   "outputs": [
    {
     "data": {
      "text/plain": [
       "1.0"
      ]
     },
     "execution_count": 7,
     "metadata": {},
     "output_type": "execute_result"
    }
   ],
   "source": [
    "np.mean(matrix_a[0])"
   ]
  },
  {
   "cell_type": "code",
   "execution_count": 9,
   "id": "172c49ff-ece2-4b5b-9b1d-30fa1cd645ba",
   "metadata": {},
   "outputs": [
    {
     "data": {
      "text/plain": [
       "2.6666666666666665"
      ]
     },
     "execution_count": 9,
     "metadata": {},
     "output_type": "execute_result"
    }
   ],
   "source": [
    "np.mean(matrix_a[:,0])"
   ]
  },
  {
   "cell_type": "code",
   "execution_count": 11,
   "id": "db7a1997-6580-4c58-aa80-0aab6f357835",
   "metadata": {},
   "outputs": [
    {
     "data": {
      "text/plain": [
       "array([2.66666667, 3.66666667, 3.        , 4.33333333, 3.33333333])"
      ]
     },
     "execution_count": 11,
     "metadata": {},
     "output_type": "execute_result"
    }
   ],
   "source": [
    "np.mean(matrix_a, axis= 0)   # mean of each column"
   ]
  },
  {
   "cell_type": "code",
   "execution_count": 15,
   "id": "417e7635-c0ed-4577-b90a-5b7507e78556",
   "metadata": {},
   "outputs": [
    {
     "data": {
      "text/plain": [
       "array([1. , 5.2, 4. ])"
      ]
     },
     "execution_count": 15,
     "metadata": {},
     "output_type": "execute_result"
    }
   ],
   "source": [
    "np.mean(matrix_a, axis= 1)  # eman of each row"
   ]
  },
  {
   "cell_type": "code",
   "execution_count": 17,
   "id": "728da4cc-ea03-4e0b-a01d-99057a6e41bc",
   "metadata": {},
   "outputs": [
    {
     "data": {
      "text/plain": [
       "array([1, 5, 4], dtype=int64)"
      ]
     },
     "execution_count": 17,
     "metadata": {},
     "output_type": "execute_result"
    }
   ],
   "source": [
    "np.mean(matrix_a, axis = 1, dtype = np.int64)"
   ]
  },
  {
   "cell_type": "code",
   "execution_count": 3,
   "id": "d9381933-47eb-426e-975f-eb22e443f8c0",
   "metadata": {},
   "outputs": [
    {
     "ename": "NameError",
     "evalue": "name 'np' is not defined",
     "output_type": "error",
     "traceback": [
      "\u001b[1;31m---------------------------------------------------------------------------\u001b[0m",
      "\u001b[1;31mNameError\u001b[0m                                 Traceback (most recent call last)",
      "Cell \u001b[1;32mIn[3], line 1\u001b[0m\n\u001b[1;32m----> 1\u001b[0m matrix_a \u001b[38;5;241m=\u001b[39m np\u001b[38;5;241m.\u001b[39marray([[\u001b[38;5;241m1\u001b[39m,\u001b[38;5;241m0\u001b[39m,\u001b[38;5;241m0\u001b[39m,\u001b[38;5;241m3\u001b[39m,\u001b[38;5;241m1\u001b[39m], [\u001b[38;5;241m3\u001b[39m,\u001b[38;5;241m6\u001b[39m,\u001b[38;5;241m6\u001b[39m,\u001b[38;5;241m2\u001b[39m,\u001b[38;5;241m9\u001b[39m], [\u001b[38;5;241m4\u001b[39m,\u001b[38;5;241m5\u001b[39m,\u001b[38;5;241m3\u001b[39m,\u001b[38;5;241m8\u001b[39m,\u001b[38;5;241m0\u001b[39m]])\n\u001b[0;32m      2\u001b[0m matrix_a\n",
      "\u001b[1;31mNameError\u001b[0m: name 'np' is not defined"
     ]
    }
   ],
   "source": [
    "matrix_a = np.array([[1,0,0,3,1], [3,6,6,2,9], [4,5,3,8,0]])\n",
    "matrix_a"
   ]
  },
  {
   "cell_type": "code",
   "execution_count": 21,
   "id": "827f027e-8bbb-403d-a54a-c7141ad2e649",
   "metadata": {},
   "outputs": [
    {
     "data": {
      "text/plain": [
       "0"
      ]
     },
     "execution_count": 21,
     "metadata": {},
     "output_type": "execute_result"
    }
   ],
   "source": [
    "np.min(matrix_a)"
   ]
  },
  {
   "cell_type": "code",
   "execution_count": 25,
   "id": "03f29128-bdc7-4902-be4f-3aebd46b9527",
   "metadata": {},
   "outputs": [
    {
     "data": {
      "text/plain": [
       "2"
      ]
     },
     "execution_count": 25,
     "metadata": {},
     "output_type": "execute_result"
    }
   ],
   "source": [
    "np.min(matrix_a[1])"
   ]
  },
  {
   "cell_type": "code",
   "execution_count": 27,
   "id": "63e81147-60f4-4c55-af58-984a682388fb",
   "metadata": {},
   "outputs": [
    {
     "data": {
      "text/plain": [
       "0"
      ]
     },
     "execution_count": 27,
     "metadata": {},
     "output_type": "execute_result"
    }
   ],
   "source": [
    "np.amin(matrix_a)"
   ]
  },
  {
   "cell_type": "code",
   "execution_count": 29,
   "id": "8093eef0-4801-4352-afe6-ded4576dac6c",
   "metadata": {},
   "outputs": [
    {
     "data": {
      "text/plain": [
       "array([1, 0, 0, 3, 0])"
      ]
     },
     "execution_count": 29,
     "metadata": {},
     "output_type": "execute_result"
    }
   ],
   "source": [
    "np.minimum(matrix_a[0], matrix_a[2])"
   ]
  },
  {
   "cell_type": "code",
   "execution_count": 31,
   "id": "e64eb221-bfd1-4356-a493-667836fe4abe",
   "metadata": {},
   "outputs": [
    {
     "data": {
      "text/plain": [
       "array([1, 0, 0, 2, 0])"
      ]
     },
     "execution_count": 31,
     "metadata": {},
     "output_type": "execute_result"
    }
   ],
   "source": [
    "np.minimum.reduce(matrix_a)"
   ]
  },
  {
   "cell_type": "code",
   "execution_count": 35,
   "id": "c776c8cc-7ddd-44ce-a84e-6d1480430df9",
   "metadata": {},
   "outputs": [
    {
     "data": {
      "text/plain": [
       "9"
      ]
     },
     "execution_count": 35,
     "metadata": {},
     "output_type": "execute_result"
    }
   ],
   "source": [
    "np.ptp(matrix_a)"
   ]
  },
  {
   "cell_type": "code",
   "execution_count": 37,
   "id": "34dd43e1-763a-4f10-ad6b-937a62f1c00c",
   "metadata": {},
   "outputs": [
    {
     "data": {
      "text/plain": [
       "array([3, 6, 6, 6, 9])"
      ]
     },
     "execution_count": 37,
     "metadata": {},
     "output_type": "execute_result"
    }
   ],
   "source": [
    "np.ptp(matrix_a, axis= 0)"
   ]
  },
  {
   "cell_type": "code",
   "execution_count": 39,
   "id": "24705d35-596e-462b-b86e-4bedcb43b26a",
   "metadata": {},
   "outputs": [
    {
     "data": {
      "text/plain": [
       "array([3, 7, 8])"
      ]
     },
     "execution_count": 39,
     "metadata": {},
     "output_type": "execute_result"
    }
   ],
   "source": [
    "np.ptp(matrix_a, axis= 1)"
   ]
  },
  {
   "cell_type": "code",
   "execution_count": 41,
   "id": "8b68857f-540a-482c-b86f-4439be44228e",
   "metadata": {},
   "outputs": [
    {
     "data": {
      "text/plain": [
       "array([0, 0, 0, 1, 1, 2, 3, 3, 3, 4, 5, 6, 6, 8, 9])"
      ]
     },
     "execution_count": 41,
     "metadata": {},
     "output_type": "execute_result"
    }
   ],
   "source": [
    "np.sort(matrix_a, axis=None)"
   ]
  },
  {
   "cell_type": "code",
   "execution_count": 43,
   "id": "fa39e32b-16a4-48bd-82e5-3d31e1787173",
   "metadata": {},
   "outputs": [
    {
     "data": {
      "text/plain": [
       "4.799999999999999"
      ]
     },
     "execution_count": 43,
     "metadata": {},
     "output_type": "execute_result"
    }
   ],
   "source": [
    "np.percentile(matrix_a, 70)"
   ]
  },
  {
   "cell_type": "code",
   "execution_count": 45,
   "id": "d09bd0c3-d15d-4d24-856e-a2ba4a6fa312",
   "metadata": {},
   "outputs": [
    {
     "data": {
      "text/plain": [
       "4.5"
      ]
     },
     "execution_count": 45,
     "metadata": {},
     "output_type": "execute_result"
    }
   ],
   "source": [
    "np.percentile(matrix_a, 70, interpolation = \"midpoint\")"
   ]
  },
  {
   "cell_type": "code",
   "execution_count": 47,
   "id": "ba2fa46b-d3c9-403f-b417-401ad63b98bf",
   "metadata": {},
   "outputs": [
    {
     "data": {
      "text/plain": [
       "array([1. , 6. , 4.8])"
      ]
     },
     "execution_count": 47,
     "metadata": {},
     "output_type": "execute_result"
    }
   ],
   "source": [
    "np.percentile(matrix_a, 70, axis = 1)"
   ]
  },
  {
   "cell_type": "code",
   "execution_count": 51,
   "id": "3bcf611c-c298-43e4-b1bc-b69fd069ad95",
   "metadata": {},
   "outputs": [
    {
     "data": {
      "text/plain": [
       "4.799999999999999"
      ]
     },
     "execution_count": 51,
     "metadata": {},
     "output_type": "execute_result"
    }
   ],
   "source": [
    "np.quantile(matrix_a, 0.70)"
   ]
  },
  {
   "cell_type": "code",
   "execution_count": 53,
   "id": "5cecc226-1f9a-4f52-a83b-1485662fd17f",
   "metadata": {},
   "outputs": [
    {
     "data": {
      "text/plain": [
       "5"
      ]
     },
     "execution_count": 53,
     "metadata": {},
     "output_type": "execute_result"
    }
   ],
   "source": [
    "np.quantile(matrix_a, 0.70, interpolation = \"nearest\")"
   ]
  },
  {
   "cell_type": "code",
   "execution_count": 9,
   "id": "336267fc-99ce-4a69-8e85-46f8fafd04eb",
   "metadata": {},
   "outputs": [
    {
     "data": {
      "text/plain": [
       "array([[1, 0, 0, 3, 1],\n",
       "       [3, 6, 6, 2, 9],\n",
       "       [4, 5, 3, 8, 0]])"
      ]
     },
     "execution_count": 9,
     "metadata": {},
     "output_type": "execute_result"
    }
   ],
   "source": [
    "matrix_a"
   ]
  },
  {
   "cell_type": "code",
   "execution_count": 11,
   "id": "efa79233-4e6e-4112-acc9-125941dcd25d",
   "metadata": {},
   "outputs": [
    {
     "data": {
      "text/plain": [
       "3.0"
      ]
     },
     "execution_count": 11,
     "metadata": {},
     "output_type": "execute_result"
    }
   ],
   "source": [
    "np.median(matrix_a)"
   ]
  },
  {
   "cell_type": "code",
   "execution_count": 13,
   "id": "f75aeb76-9255-4dd0-b88c-04528f26f17c",
   "metadata": {},
   "outputs": [
    {
     "data": {
      "text/plain": [
       "array([0, 0, 0, 1, 1, 2, 3, 3, 3, 4, 5, 6, 6, 8, 9])"
      ]
     },
     "execution_count": 13,
     "metadata": {},
     "output_type": "execute_result"
    }
   ],
   "source": [
    "np.sort(matrix_a, axis= None)"
   ]
  },
  {
   "cell_type": "code",
   "execution_count": 15,
   "id": "192befa8-f19c-4df4-8b96-d04365fe7372",
   "metadata": {},
   "outputs": [
    {
     "data": {
      "text/plain": [
       "3.4"
      ]
     },
     "execution_count": 15,
     "metadata": {},
     "output_type": "execute_result"
    }
   ],
   "source": [
    "np.mean(matrix_a)"
   ]
  },
  {
   "cell_type": "code",
   "execution_count": 17,
   "id": "7f6170c0-b1e8-40c7-ba88-7bd0d7693d07",
   "metadata": {},
   "outputs": [
    {
     "data": {
      "text/plain": [
       "3.4"
      ]
     },
     "execution_count": 17,
     "metadata": {},
     "output_type": "execute_result"
    }
   ],
   "source": [
    "np.average(matrix_a)"
   ]
  },
  {
   "cell_type": "code",
   "execution_count": 21,
   "id": "7e78978d-1807-445b-b6dd-1dca6e1dcb0a",
   "metadata": {},
   "outputs": [
    {
     "data": {
      "text/plain": [
       "array([[0.75915734, 0.7662218 , 0.6291028 , 0.20336599, 0.66501486],\n",
       "       [0.06559111, 0.71326309, 0.10812106, 0.87969046, 0.49405844],\n",
       "       [0.82472673, 0.45652944, 0.07367232, 0.69628564, 0.36690736]])"
      ]
     },
     "execution_count": 21,
     "metadata": {},
     "output_type": "execute_result"
    }
   ],
   "source": [
    "from numpy.random import Generator as gen\n",
    "from numpy.random import PCG64 as pcg\n",
    "\n",
    "array_RG = gen(pcg(365))\n",
    "\n",
    "array_weights = array_RG.random(size = (3,5))\n",
    "array_weights"
   ]
  },
  {
   "cell_type": "code",
   "execution_count": 23,
   "id": "ba480ae6-bde3-4dde-a251-3c65c2bb329a",
   "metadata": {},
   "outputs": [
    {
     "data": {
      "text/plain": [
       "3.2120290871899306"
      ]
     },
     "execution_count": 23,
     "metadata": {},
     "output_type": "execute_result"
    }
   ],
   "source": [
    "np.average(matrix_a, weights = array_weights)"
   ]
  },
  {
   "cell_type": "code",
   "execution_count": 27,
   "id": "7c9ed4dc-793d-4033-88f9-9bf03fa98634",
   "metadata": {},
   "outputs": [
    {
     "data": {
      "text/plain": [
       "7.84"
      ]
     },
     "execution_count": 27,
     "metadata": {},
     "output_type": "execute_result"
    }
   ],
   "source": [
    "np.var(matrix_a)"
   ]
  },
  {
   "cell_type": "code",
   "execution_count": 29,
   "id": "7b2e0bf1-b59f-43ee-90e5-028b759fc6ad",
   "metadata": {},
   "outputs": [
    {
     "data": {
      "text/plain": [
       "2.8"
      ]
     },
     "execution_count": 29,
     "metadata": {},
     "output_type": "execute_result"
    }
   ],
   "source": [
    "np.std(matrix_a)"
   ]
  },
  {
   "cell_type": "code",
   "execution_count": 31,
   "id": "c28706f0-0a86-4b95-84db-691aec1c2f8b",
   "metadata": {},
   "outputs": [
    {
     "data": {
      "text/plain": [
       "7.839999999999999"
      ]
     },
     "execution_count": 31,
     "metadata": {},
     "output_type": "execute_result"
    }
   ],
   "source": [
    "2.8**2\n"
   ]
  },
  {
   "cell_type": "code",
   "execution_count": 33,
   "id": "6026523b-e00e-40c9-bcb6-d7bd9eb76060",
   "metadata": {},
   "outputs": [
    {
     "data": {
      "text/plain": [
       "array([[ 1.5, -2. ,  2. ],\n",
       "       [-2. ,  7.7, -7. ],\n",
       "       [ 2. , -7. ,  8.5]])"
      ]
     },
     "execution_count": 33,
     "metadata": {},
     "output_type": "execute_result"
    }
   ],
   "source": [
    "np.cov(matrix_a)"
   ]
  },
  {
   "cell_type": "code",
   "execution_count": 35,
   "id": "217c9467-76f5-4cdb-bdd4-22fc2f3b52c2",
   "metadata": {},
   "outputs": [
    {
     "data": {
      "text/plain": [
       "array([[ 1.        , -0.58848989,  0.56011203],\n",
       "       [-0.58848989,  1.        , -0.8652532 ],\n",
       "       [ 0.56011203, -0.8652532 ,  1.        ]])"
      ]
     },
     "execution_count": 35,
     "metadata": {},
     "output_type": "execute_result"
    }
   ],
   "source": [
    "np.corrcoef(matrix_a)"
   ]
  },
  {
   "cell_type": "code",
   "execution_count": 37,
   "id": "23ccd2e2-1d21-428e-97eb-22b156a0f2a4",
   "metadata": {},
   "outputs": [
    {
     "data": {
      "text/plain": [
       "array([[1, 0, 0, 3, 1],\n",
       "       [3, 6, 6, 2, 9],\n",
       "       [4, 5, 3, 8, 0]])"
      ]
     },
     "execution_count": 37,
     "metadata": {},
     "output_type": "execute_result"
    }
   ],
   "source": [
    "matrix_a"
   ]
  },
  {
   "cell_type": "code",
   "execution_count": 39,
   "id": "ba6a39a1-aa40-4c11-87dd-aa04d8cfa5a5",
   "metadata": {},
   "outputs": [
    {
     "data": {
      "text/plain": [
       "array([[0, 0, 1, 1, 3],\n",
       "       [2, 3, 6, 6, 9],\n",
       "       [0, 3, 4, 5, 8]])"
      ]
     },
     "execution_count": 39,
     "metadata": {},
     "output_type": "execute_result"
    }
   ],
   "source": [
    "np.sort(matrix_a)"
   ]
  },
  {
   "cell_type": "code",
   "execution_count": 41,
   "id": "2145e077-8c08-4739-9e72-4b5b248acb7c",
   "metadata": {},
   "outputs": [
    {
     "data": {
      "text/plain": [
       "array([0, 0, 0, 1, 1, 2, 3, 3, 3, 4, 5, 6, 6, 8, 9])"
      ]
     },
     "execution_count": 41,
     "metadata": {},
     "output_type": "execute_result"
    }
   ],
   "source": [
    "np.sort(matrix_a, axis= None)"
   ]
  },
  {
   "cell_type": "code",
   "execution_count": 43,
   "id": "5802c6a6-4339-4ea5-a977-c28f235d47e5",
   "metadata": {},
   "outputs": [
    {
     "data": {
      "text/plain": [
       "(array([3, 2, 1, 3, 1, 1, 2, 0, 1, 1], dtype=int64),\n",
       " array([0. , 0.9, 1.8, 2.7, 3.6, 4.5, 5.4, 6.3, 7.2, 8.1, 9. ]))"
      ]
     },
     "execution_count": 43,
     "metadata": {},
     "output_type": "execute_result"
    }
   ],
   "source": [
    "np.histogram(matrix_a)"
   ]
  },
  {
   "cell_type": "code",
   "execution_count": 45,
   "id": "46334157-7c12-4e45-b1a5-47cb80878713",
   "metadata": {},
   "outputs": [
    {
     "data": {
      "text/plain": [
       "(array([6, 4, 3, 2], dtype=int64), array([0.  , 2.25, 4.5 , 6.75, 9.  ]))"
      ]
     },
     "execution_count": 45,
     "metadata": {},
     "output_type": "execute_result"
    }
   ],
   "source": [
    "np.histogram(matrix_a, bins = 4)"
   ]
  },
  {
   "cell_type": "code",
   "execution_count": 47,
   "id": "3765dbf4-b8a1-4751-ba8b-fe5480219a81",
   "metadata": {},
   "outputs": [],
   "source": [
    "import matplotlib.pyplot as plt"
   ]
  },
  {
   "cell_type": "code",
   "execution_count": 49,
   "id": "fb82805e-7d5e-4565-9480-a3702c693f17",
   "metadata": {},
   "outputs": [
    {
     "data": {
      "image/png": "[encoded data removed]",
      "text/plain": [
       "<Figure size 640x480 with 1 Axes>"
      ]
     },
     "metadata": {},
     "output_type": "display_data"
    }
   ],
   "source": [
    "plt.hist(matrix_a.flat, bins= np.histogram(matrix_a)[1])\n",
    "plt.show()"
   ]
  },
  {
   "cell_type": "code",
   "execution_count": 51,
   "id": "237030fa-1f63-40e3-9ec1-bddd9b039f92",
   "metadata": {},
   "outputs": [
    {
     "data": {
      "text/plain": [
       "array([[1, 0, 0, 3, 1],\n",
       "       [3, 6, 6, 2, 9],\n",
       "       [4, 5, 3, 8, 0]])"
      ]
     },
     "execution_count": 51,
     "metadata": {},
     "output_type": "execute_result"
    }
   ],
   "source": [
    "matrix_a"
   ]
  },
  {
   "cell_type": "code",
   "execution_count": 57,
   "id": "3abb14eb-de0d-4290-8bb0-0260baa9abd0",
   "metadata": {},
   "outputs": [
    {
     "data": {
      "text/plain": [
       "(array([[0., 0., 2., 0.],\n",
       "        [1., 0., 0., 1.],\n",
       "        [0., 0., 0., 0.],\n",
       "        [1., 0., 0., 0.]]),\n",
       " array([0.  , 0.75, 1.5 , 2.25, 3.  ]),\n",
       " array([2.  , 3.75, 5.5 , 7.25, 9.  ]))"
      ]
     },
     "execution_count": 57,
     "metadata": {},
     "output_type": "execute_result"
    }
   ],
   "source": [
    "np.histogram2d(matrix_a[0], matrix_a[1], bins =4)"
   ]
  },
  {
   "cell_type": "code",
   "execution_count": 59,
   "id": "b147c37b-1b23-4b54-8dc0-1d7015e8bc32",
   "metadata": {},
   "outputs": [
    {
     "data": {
      "text/plain": [
       "(array([[[0., 0., 0., 0.],\n",
       "         [0., 0., 0., 0.],\n",
       "         [0., 1., 1., 0.],\n",
       "         [0., 0., 0., 0.]],\n",
       " \n",
       "        [[0., 0., 1., 0.],\n",
       "         [0., 0., 0., 0.],\n",
       "         [0., 0., 0., 0.],\n",
       "         [1., 0., 0., 0.]],\n",
       " \n",
       "        [[0., 0., 0., 0.],\n",
       "         [0., 0., 0., 0.],\n",
       "         [0., 0., 0., 0.],\n",
       "         [0., 0., 0., 0.]],\n",
       " \n",
       "        [[0., 0., 0., 1.],\n",
       "         [0., 0., 0., 0.],\n",
       "         [0., 0., 0., 0.],\n",
       "         [0., 0., 0., 0.]]]),\n",
       " [array([0.  , 0.75, 1.5 , 2.25, 3.  ]),\n",
       "  array([2.  , 3.75, 5.5 , 7.25, 9.  ]),\n",
       "  array([0., 2., 4., 6., 8.])])"
      ]
     },
     "execution_count": 59,
     "metadata": {},
     "output_type": "execute_result"
    }
   ],
   "source": [
    "np.histogramdd(matrix_a.transpose(), bins= 4)"
   ]
  },
  {
   "cell_type": "code",
   "execution_count": 61,
   "id": "4b658f4c-cd5e-4efc-aa13-dfc72b3dc823",
   "metadata": {},
   "outputs": [
    {
     "data": {
      "text/plain": [
       "3.4"
      ]
     },
     "execution_count": 61,
     "metadata": {},
     "output_type": "execute_result"
    }
   ],
   "source": [
    "np.nanmean(matrix_a)"
   ]
  },
  {
   "cell_type": "code",
   "execution_count": 63,
   "id": "2285d824-d0de-4781-b912-e92a75b01dfd",
   "metadata": {},
   "outputs": [
    {
     "data": {
      "text/plain": [
       "array([[ 1.,  0.,  0.,  3.,  1.],\n",
       "       [ 3.,  6., nan,  2.,  9.],\n",
       "       [ 4.,  5.,  3.,  8.,  0.]])"
      ]
     },
     "execution_count": 63,
     "metadata": {},
     "output_type": "execute_result"
    }
   ],
   "source": [
    "matrix_b = np.array([[1,0,0,3,1], [3,6,np.nan,2,9], [4,5,3,8,0]])\n",
    "matrix_b"
   ]
  },
  {
   "cell_type": "code",
   "execution_count": 65,
   "id": "dbe9c949-974f-40ac-bbbe-7d30bd3a98b3",
   "metadata": {},
   "outputs": [
    {
     "data": {
      "text/plain": [
       "3.2142857142857144"
      ]
     },
     "execution_count": 65,
     "metadata": {},
     "output_type": "execute_result"
    }
   ],
   "source": [
    "np.nanmean(matrix_b)"
   ]
  },
  {
   "cell_type": "code",
   "execution_count": 67,
   "id": "31a48dd3-6d42-432c-ae96-d2df49881164",
   "metadata": {},
   "outputs": [
    {
     "data": {
      "text/plain": [
       "nan"
      ]
     },
     "execution_count": 67,
     "metadata": {},
     "output_type": "execute_result"
    }
   ],
   "source": [
    "np.mean(matrix_b)"
   ]
  },
  {
   "cell_type": "code",
   "execution_count": 69,
   "id": "ab977a87-7e85-4f80-b10f-b528e7b983c6",
   "metadata": {},
   "outputs": [],
   "source": [
    "lending_co_numeric = np.loadtxt(\"C:\\\\Users\\\\brand\\\\Downloads\\\\Data Analyst Course\\\\S27 - NumPy Preprocessing\\\\Lending-company-Numeric.csv\", delimiter= ',')\n"
   ]
  },
  {
   "cell_type": "code",
   "execution_count": 71,
   "id": "38d08459-3e72-4bb9-9144-49a19b4df315",
   "metadata": {},
   "outputs": [
    {
     "data": {
      "text/plain": [
       "array([[False, False, False, False, False, False],\n",
       "       [False, False, False, False, False, False],\n",
       "       [False, False, False, False, False, False],\n",
       "       ...,\n",
       "       [False, False, False, False, False, False],\n",
       "       [False, False, False, False, False, False],\n",
       "       [False, False, False, False, False, False]])"
      ]
     },
     "execution_count": 71,
     "metadata": {},
     "output_type": "execute_result"
    }
   ],
   "source": [
    "np.isnan(lending_co_numeric)"
   ]
  },
  {
   "cell_type": "code",
   "execution_count": 73,
   "id": "3a37b393-8cd6-4cb4-97e3-78f41777629a",
   "metadata": {},
   "outputs": [
    {
     "data": {
      "text/plain": [
       "0"
      ]
     },
     "execution_count": 73,
     "metadata": {},
     "output_type": "execute_result"
    }
   ],
   "source": [
    "np.isnan(lending_co_numeric).sum()"
   ]
  },
  {
   "cell_type": "code",
   "execution_count": 79,
   "id": "85e06151-f605-4cbb-9645-c0707cbe7e55",
   "metadata": {},
   "outputs": [],
   "source": [
    "lending_co_data_nan = np.genfromtxt(\"C:\\\\Users\\\\brand\\\\Downloads\\\\Data Analyst Course\\\\S27 - NumPy Preprocessing\\\\Lending-company-Numeric-NAN.csv\", delimiter= ';')"
   ]
  },
  {
   "cell_type": "code",
   "execution_count": 83,
   "id": "4826e4e1-b3c3-493f-b56c-13d828a3b6d9",
   "metadata": {},
   "outputs": [
    {
     "data": {
      "text/plain": [
       "array([[False, False, False, False, False, False],\n",
       "       [False, False, False, False, False, False],\n",
       "       [False, False, False, False, False, False],\n",
       "       ...,\n",
       "       [ True, False, False, False, False, False],\n",
       "       [False, False, False, False, False, False],\n",
       "       [False, False, False, False, False, False]])"
      ]
     },
     "execution_count": 83,
     "metadata": {},
     "output_type": "execute_result"
    }
   ],
   "source": [
    "np.isnan(lending_co_data_nan)"
   ]
  },
  {
   "cell_type": "code",
   "execution_count": 85,
   "id": "b276c3c0-911e-4f51-a77f-3dec88e9b1b9",
   "metadata": {},
   "outputs": [
    {
     "data": {
      "text/plain": [
       "260"
      ]
     },
     "execution_count": 85,
     "metadata": {},
     "output_type": "execute_result"
    }
   ],
   "source": [
    "np.isnan(lending_co_data_nan).sum()"
   ]
  },
  {
   "cell_type": "code",
   "execution_count": 87,
   "id": "89db40eb-3e95-4571-b8c1-314a927cbe0c",
   "metadata": {},
   "outputs": [],
   "source": [
    "lending_co_data_nan = np.genfromtxt(\"C:\\\\Users\\\\brand\\\\Downloads\\\\Data Analyst Course\\\\S27 - NumPy Preprocessing\\\\Lending-company-Numeric-NAN.csv\", delimiter= ';', filling_values= 0)\n"
   ]
  },
  {
   "cell_type": "code",
   "execution_count": 89,
   "id": "9de99814-3ab5-41ac-8a1a-48e10b3f2cab",
   "metadata": {},
   "outputs": [
    {
     "data": {
      "text/plain": [
       "0"
      ]
     },
     "execution_count": 89,
     "metadata": {},
     "output_type": "execute_result"
    }
   ],
   "source": [
    "np.isnan(lending_co_data_nan).sum()"
   ]
  },
  {
   "cell_type": "code",
   "execution_count": 91,
   "id": "b4375e2c-e025-4cb5-9ad2-c94cff224fb5",
   "metadata": {},
   "outputs": [],
   "source": [
    "lending_co_data_nan = np.genfromtxt(\"C:\\\\Users\\\\brand\\\\Downloads\\\\Data Analyst Course\\\\S27 - NumPy Preprocessing\\\\Lending-company-Numeric-NAN.csv\", delimiter= ';')\n"
   ]
  },
  {
   "cell_type": "code",
   "execution_count": 93,
   "id": "6a79e675-48ed-4305-91c5-33e89efbaa0a",
   "metadata": {},
   "outputs": [],
   "source": [
    "temporary_fill = np.nanmax(lending_co_data_nan).round(2) + 1"
   ]
  },
  {
   "cell_type": "code",
   "execution_count": 95,
   "id": "72ff94f7-3a10-4586-8a0f-3f701313c606",
   "metadata": {},
   "outputs": [
    {
     "data": {
      "text/plain": [
       "64002.0"
      ]
     },
     "execution_count": 95,
     "metadata": {},
     "output_type": "execute_result"
    }
   ],
   "source": [
    "temporary_fill"
   ]
  },
  {
   "cell_type": "code",
   "execution_count": 97,
   "id": "63901265-f6fd-4155-a806-563e252676df",
   "metadata": {},
   "outputs": [],
   "source": [
    "lending_co_data_nan = np.genfromtxt(\"C:\\\\Users\\\\brand\\\\Downloads\\\\Data Analyst Course\\\\S27 - NumPy Preprocessing\\\\Lending-company-Numeric-NAN.csv\", delimiter= ';', filling_values = temporary_fill)"
   ]
  },
  {
   "cell_type": "code",
   "execution_count": 99,
   "id": "8ce7fdcf-9b86-4d12-9912-80c814947f49",
   "metadata": {},
   "outputs": [
    {
     "data": {
      "text/plain": [
       "array([[False, False, False, False, False, False],\n",
       "       [False, False, False, False, False, False],\n",
       "       [False, False, False, False, False, False],\n",
       "       ...,\n",
       "       [False, False, False, False, False, False],\n",
       "       [False, False, False, False, False, False],\n",
       "       [False, False, False, False, False, False]])"
      ]
     },
     "execution_count": 99,
     "metadata": {},
     "output_type": "execute_result"
    }
   ],
   "source": [
    "np.isnan(lending_co_data_nan)"
   ]
  },
  {
   "cell_type": "code",
   "execution_count": 101,
   "id": "7aea53bb-7612-4f64-8d4b-75d013207c15",
   "metadata": {},
   "outputs": [
    {
     "data": {
      "text/plain": [
       "0"
      ]
     },
     "execution_count": 101,
     "metadata": {},
     "output_type": "execute_result"
    }
   ],
   "source": [
    "np.isnan(lending_co_data_nan).sum()"
   ]
  },
  {
   "cell_type": "code",
   "execution_count": 103,
   "id": "5044dd20-6b50-4b8d-8eb2-a800d815302f",
   "metadata": {},
   "outputs": [
    {
     "data": {
      "text/plain": [
       "array([[ 2000.,    40.,   365.,  3121.,  4241., 13621.],\n",
       "       [ 2000.,    40.,   365.,  3061.,  4171., 15041.],\n",
       "       [ 1000.,    40.,   365.,  2160.,  3280., 15340.],\n",
       "       ...,\n",
       "       [   nan,    40.,   365.,  4201.,  5001., 16600.],\n",
       "       [ 1000.,    40.,   365.,  2080.,  3320., 15600.],\n",
       "       [ 2000.,    40.,   365.,  4601.,  4601., 16600.]])"
      ]
     },
     "execution_count": 103,
     "metadata": {},
     "output_type": "execute_result"
    }
   ],
   "source": [
    "lending_co_data_nan = np.genfromtxt(\"C:\\\\Users\\\\brand\\\\Downloads\\\\Data Analyst Course\\\\S27 - NumPy Preprocessing\\\\Lending-company-Numeric-NAN.csv\", delimiter= ';')\n",
    "lending_co_data_nan"
   ]
  },
  {
   "cell_type": "code",
   "execution_count": 111,
   "id": "d79d0081-ada2-45a9-8e7a-ee0a0e848354",
   "metadata": {},
   "outputs": [],
   "source": [
    "temporary_mean = np.nanmean(lending_co_data_nan, axis = 0).round(2)"
   ]
  },
  {
   "cell_type": "code",
   "execution_count": 113,
   "id": "d9619950-b9b6-4d7e-9be0-cbc497710a7f",
   "metadata": {},
   "outputs": [
    {
     "data": {
      "text/plain": [
       "2250.25"
      ]
     },
     "execution_count": 113,
     "metadata": {},
     "output_type": "execute_result"
    }
   ],
   "source": [
    "temporary_mean[0]"
   ]
  },
  {
   "cell_type": "code",
   "execution_count": 115,
   "id": "b22b2481-4843-4e43-b149-52118abf7367",
   "metadata": {},
   "outputs": [
    {
     "data": {
      "text/plain": [
       "64002.0"
      ]
     },
     "execution_count": 115,
     "metadata": {},
     "output_type": "execute_result"
    }
   ],
   "source": [
    "temporary_fill"
   ]
  },
  {
   "cell_type": "code",
   "execution_count": 117,
   "id": "51d826a5-994f-4eb8-aa2e-77bd364746cf",
   "metadata": {},
   "outputs": [
    {
     "data": {
      "text/plain": [
       "nan"
      ]
     },
     "execution_count": 117,
     "metadata": {},
     "output_type": "execute_result"
    }
   ],
   "source": [
    "np.mean(lending_co_data_nan[:,0]).round(2)"
   ]
  },
  {
   "cell_type": "code",
   "execution_count": 119,
   "id": "bb87a73d-1d10-4409-856a-914792975d83",
   "metadata": {},
   "outputs": [],
   "source": [
    "temporary_fill = np.nanmax(lending_co_data_nan).round(2) + 1\n",
    "lending_co_data_nan = np.genfromtxt(\"C:\\\\Users\\\\brand\\\\Downloads\\\\Data Analyst Course\\\\S27 - NumPy Preprocessing\\\\Lending-company-Numeric-NAN.csv\", delimiter= ';', filling_values = temporary_fill)"
   ]
  },
  {
   "cell_type": "code",
   "execution_count": 121,
   "id": "75e8a074-668f-4af1-b181-2411a3d4c419",
   "metadata": {},
   "outputs": [
    {
     "data": {
      "text/plain": [
       "4263.25"
      ]
     },
     "execution_count": 121,
     "metadata": {},
     "output_type": "execute_result"
    }
   ],
   "source": [
    "np.mean(lending_co_data_nan[:,0]).round(2)"
   ]
  },
  {
   "cell_type": "code",
   "execution_count": 123,
   "id": "9a04530d-132b-4b59-ad6c-6fc67cd6e369",
   "metadata": {},
   "outputs": [
    {
     "data": {
      "text/plain": [
       "2250.25"
      ]
     },
     "execution_count": 123,
     "metadata": {},
     "output_type": "execute_result"
    }
   ],
   "source": [
    "temporary_mean[0]"
   ]
  },
  {
   "cell_type": "code",
   "execution_count": 125,
   "id": "87fd79cc-e780-447b-9c77-ed6881163f55",
   "metadata": {},
   "outputs": [],
   "source": [
    "lending_co_data_nan[:,0] = np.where(lending_co_data_nan[:,0] == temporary_fill, temporary_mean[0],\n",
    "lending_co_data_nan[:,0])"
   ]
  },
  {
   "cell_type": "code",
   "execution_count": 127,
   "id": "0576d3fb-e275-4420-9108-e4b9e981147b",
   "metadata": {},
   "outputs": [
    {
     "data": {
      "text/plain": [
       "2250.25"
      ]
     },
     "execution_count": 127,
     "metadata": {},
     "output_type": "execute_result"
    }
   ],
   "source": [
    "np.mean(lending_co_data_nan[:,0]).round(2)"
   ]
  },
  {
   "cell_type": "code",
   "execution_count": 129,
   "id": "383ccebf-d7ca-475b-aa96-875074a61cc1",
   "metadata": {},
   "outputs": [],
   "source": [
    "for i in range(lending_co_data_nan.shape[1]):\n",
    "    lending_co_data_nan[:,i] = np.where(lending_co_data_nan[:, i] == temporary_fill,\n",
    "                                       temporary_mean[i],\n",
    "                                       lending_co_data_nan[:, i])"
   ]
  },
  {
   "cell_type": "code",
   "execution_count": 131,
   "id": "cd0b0d0f-8dc8-4172-b526-b363a3db6204",
   "metadata": {},
   "outputs": [],
   "source": [
    "lending_co_numeric = np.loadtxt(\"C:\\\\Users\\\\brand\\\\Downloads\\\\Data Analyst Course\\\\S27 - NumPy Preprocessing\\\\Lending-company-Numeric.csv\", delimiter= ',')\n"
   ]
  },
  {
   "cell_type": "code",
   "execution_count": 133,
   "id": "64d60c85-3c71-43be-894f-479821cb5ad0",
   "metadata": {},
   "outputs": [
    {
     "data": {
      "text/plain": [
       "(1043, 6)"
      ]
     },
     "execution_count": 133,
     "metadata": {},
     "output_type": "execute_result"
    }
   ],
   "source": [
    "lending_co_numeric.shape"
   ]
  },
  {
   "cell_type": "code",
   "execution_count": 135,
   "id": "52e1ab2c-96ac-4e41-b168-7e67c1436e2a",
   "metadata": {},
   "outputs": [
    {
     "data": {
      "text/plain": [
       "array([[ 2000.,    40.,   365., ...,   365.,  1581.,  3041.],\n",
       "       [12277.,  2000.,    40., ...,    50.,   365.,  5350.],\n",
       "       [ 6850., 15150.,  1000., ...,  2000.,    40.,   365.],\n",
       "       [ 3101.,  4351., 16600., ..., 16600.,  2000.,    40.],\n",
       "       [  365.,  3441.,  4661., ...,  8450., 22250.,  2000.],\n",
       "       [   40.,   365.,  3701., ...,  4601.,  4601., 16600.]])"
      ]
     },
     "execution_count": 135,
     "metadata": {},
     "output_type": "execute_result"
    }
   ],
   "source": [
    "np.reshape(lending_co_numeric, (6, 1043))"
   ]
  },
  {
   "cell_type": "code",
   "execution_count": 137,
   "id": "fc304a0f-9454-45e7-b0a8-3fbe884398ad",
   "metadata": {},
   "outputs": [
    {
     "data": {
      "text/plain": [
       "array([[ 2000.,  2000.,  1000., ...,  2000.,  1000.,  2000.],\n",
       "       [   40.,    40.,    40., ...,    40.,    40.,    40.],\n",
       "       [  365.,   365.,   365., ...,   365.,   365.,   365.],\n",
       "       [ 3121.,  3061.,  2160., ...,  4201.,  2080.,  4601.],\n",
       "       [ 4241.,  4171.,  3280., ...,  5001.,  3320.,  4601.],\n",
       "       [13621., 15041., 15340., ..., 16600., 15600., 16600.]])"
      ]
     },
     "execution_count": 137,
     "metadata": {},
     "output_type": "execute_result"
    }
   ],
   "source": [
    "np.transpose(lending_co_numeric)"
   ]
  },
  {
   "cell_type": "code",
   "execution_count": 139,
   "id": "2ab46e3e-e426-4c23-a692-1b8897c86088",
   "metadata": {},
   "outputs": [],
   "source": [
    "lending_co_numeric = np.reshape(lending_co_numeric, (6, 1043))"
   ]
  },
  {
   "cell_type": "code",
   "execution_count": 143,
   "id": "6b450509-6a6a-4cdb-b4e6-4ae34a03970c",
   "metadata": {},
   "outputs": [
    {
     "data": {
      "text/plain": [
       "array([   40.,   365.,  3121., ...,  4601.,  4601., 16600.])"
      ]
     },
     "execution_count": 143,
     "metadata": {},
     "output_type": "execute_result"
    }
   ],
   "source": [
    "np.delete(lending_co_numeric, 0)"
   ]
  },
  {
   "cell_type": "code",
   "execution_count": 145,
   "id": "8689c789-ad6d-44d5-bb2d-a126ef93c72b",
   "metadata": {},
   "outputs": [
    {
     "data": {
      "text/plain": [
       "array([[12277.,  2000.,    40., ...,    50.,   365.,  5350.],\n",
       "       [ 6850., 15150.,  1000., ...,  2000.,    40.,   365.],\n",
       "       [ 3101.,  4351., 16600., ..., 16600.,  2000.,    40.],\n",
       "       [  365.,  3441.,  4661., ...,  8450., 22250.,  2000.],\n",
       "       [   40.,   365.,  3701., ...,  4601.,  4601., 16600.]])"
      ]
     },
     "execution_count": 145,
     "metadata": {},
     "output_type": "execute_result"
    }
   ],
   "source": [
    "np.delete(lending_co_numeric, 0, axis = 0)"
   ]
  },
  {
   "cell_type": "code",
   "execution_count": 147,
   "id": "26f1c3db-9292-4b46-8406-eef11b6e2293",
   "metadata": {},
   "outputs": [
    {
     "data": {
      "text/plain": [
       "array([[   40.,   365.,  3121., ...,   365.,  1581.,  3041.],\n",
       "       [ 2000.,    40.,   365., ...,    50.,   365.,  5350.],\n",
       "       [15150.,  1000.,    50., ...,  2000.,    40.,   365.],\n",
       "       [ 4351., 16600.,  1000., ..., 16600.,  2000.,    40.],\n",
       "       [ 3441.,  4661., 16600., ...,  8450., 22250.,  2000.],\n",
       "       [  365.,  3701.,  6701., ...,  4601.,  4601., 16600.]])"
      ]
     },
     "execution_count": 147,
     "metadata": {},
     "output_type": "execute_result"
    }
   ],
   "source": [
    "np.delete(lending_co_numeric, 0, axis = 1)"
   ]
  },
  {
   "cell_type": "code",
   "execution_count": 151,
   "id": "0e0eebe8-d026-46cc-bd05-833bcea968a4",
   "metadata": {},
   "outputs": [
    {
     "data": {
      "text/plain": [
       "array([[   40.,  3121., 13621., ...,   365.,  1581.,  3041.],\n",
       "       [ 2000.,   365.,  4241., ...,    50.,   365.,  5350.],\n",
       "       [15150.,    50.,   650., ...,  2000.,    40.,   365.],\n",
       "       [ 4351.,  1000.,   365., ..., 16600.,  2000.,    40.],\n",
       "       [ 3441., 16600.,    40., ...,  8450., 22250.,  2000.],\n",
       "       [  365.,  6701.,  4000., ...,  4601.,  4601., 16600.]])"
      ]
     },
     "execution_count": 151,
     "metadata": {},
     "output_type": "execute_result"
    }
   ],
   "source": [
    "np.delete(lending_co_numeric, (0,2,4), axis = 1)"
   ]
  },
  {
   "cell_type": "code",
   "execution_count": 3,
   "id": "ca59ac13-8e9f-4ea2-aeb4-fdfd6b2b1b38",
   "metadata": {},
   "outputs": [
    {
     "data": {
      "text/plain": [
       "array([[ 2000.,    40.,   365.,  3121.,  4241., 13621.],\n",
       "       [ 2000.,    40.,   365.,  3061.,  4171., 15041.],\n",
       "       [ 1000.,    40.,   365.,  2160.,  3280., 15340.],\n",
       "       ...,\n",
       "       [ 2000.,    40.,   365.,  4201.,  5001., 16600.],\n",
       "       [ 1000.,    40.,   365.,  2080.,  3320., 15600.],\n",
       "       [ 2000.,    40.,   365.,  4601.,  4601., 16600.]])"
      ]
     },
     "execution_count": 3,
     "metadata": {},
     "output_type": "execute_result"
    }
   ],
   "source": [
    "lending_co_numeric = np.loadtxt(\"C:\\\\Users\\\\brand\\\\Downloads\\\\Data Analyst Course\\\\S27 - NumPy Preprocessing\\\\Lending-company-Numeric.csv\", delimiter= ',')\n",
    "lending_co_numeric"
   ]
  },
  {
   "cell_type": "code",
   "execution_count": 5,
   "id": "47a1e03e-eca3-48fd-91b0-b3126646633b",
   "metadata": {},
   "outputs": [
    {
     "data": {
      "text/plain": [
       "array([[   40.,   365.,  2000.,  3121.,  4241., 13621.],\n",
       "       [   40.,   365.,  2000.,  3061.,  4171., 15041.],\n",
       "       [   40.,   365.,  1000.,  2160.,  3280., 15340.],\n",
       "       ...,\n",
       "       [   40.,   365.,  2000.,  4201.,  5001., 16600.],\n",
       "       [   40.,   365.,  1000.,  2080.,  3320., 15600.],\n",
       "       [   40.,   365.,  2000.,  4601.,  4601., 16600.]])"
      ]
     },
     "execution_count": 5,
     "metadata": {},
     "output_type": "execute_result"
    }
   ],
   "source": [
    "np.sort(lending_co_numeric)"
   ]
  },
  {
   "cell_type": "code",
   "execution_count": 11,
   "id": "0f108218-4898-4699-9ee9-a23ea6fcee8e",
   "metadata": {},
   "outputs": [
    {
     "data": {
      "text/plain": [
       "array([[ 1000.,    35.,   365., -2870., -2870.,  -350.],\n",
       "       [ 1000.,    35.,   365., -2550., -2100.,   150.],\n",
       "       [ 1000.,    35.,   365., -2450., -2000.,  1100.],\n",
       "       ...,\n",
       "       [ 9000.,   125.,   365., 16751., 18751., 54625.],\n",
       "       [ 9000.,   165.,   365., 17650., 20001., 54625.],\n",
       "       [ 9000.,   165.,   365., 19001., 22001., 64001.]])"
      ]
     },
     "execution_count": 11,
     "metadata": {},
     "output_type": "execute_result"
    }
   ],
   "source": [
    "np.sort(lending_co_numeric, axis = 0)"
   ]
  },
  {
   "cell_type": "code",
   "execution_count": 9,
   "id": "a0742947-2ca1-488e-8a40-8330aabb95be",
   "metadata": {},
   "outputs": [],
   "source": [
    "np.set_printoptions(suppress = True)\n"
   ]
  },
  {
   "cell_type": "code",
   "execution_count": 13,
   "id": "bfb2e164-c744-444a-a6c3-543b29d00cdd",
   "metadata": {},
   "outputs": [
    {
     "data": {
      "text/plain": [
       "array([-2870., -2870., -2550., ..., 54625., 54625., 64001.])"
      ]
     },
     "execution_count": 13,
     "metadata": {},
     "output_type": "execute_result"
    }
   ],
   "source": [
    "np.sort(lending_co_numeric, axis = None)"
   ]
  },
  {
   "cell_type": "code",
   "execution_count": 15,
   "id": "42886969-f072-48b7-8ddc-488b7a3f8942",
   "metadata": {},
   "outputs": [
    {
     "data": {
      "text/plain": [
       "array([[   40.,   365.,  2000.,  3121.,  4241., 13621.],\n",
       "       [   40.,   365.,  2000.,  3061.,  4171., 15041.],\n",
       "       [   40.,   365.,  1000.,  2160.,  3280., 15340.],\n",
       "       ...,\n",
       "       [   40.,   365.,  2000.,  4201.,  5001., 16600.],\n",
       "       [   40.,   365.,  1000.,  2080.,  3320., 15600.],\n",
       "       [   40.,   365.,  2000.,  4601.,  4601., 16600.]])"
      ]
     },
     "execution_count": 15,
     "metadata": {},
     "output_type": "execute_result"
    }
   ],
   "source": [
    "np.sort(lending_co_numeric)"
   ]
  },
  {
   "cell_type": "code",
   "execution_count": 17,
   "id": "e079a77f-2931-450d-99b2-c6932c3b6e33",
   "metadata": {},
   "outputs": [
    {
     "data": {
      "text/plain": [
       "array([[-13621.,  -4241.,  -3121.,  -2000.,   -365.,    -40.],\n",
       "       [-15041.,  -4171.,  -3061.,  -2000.,   -365.,    -40.],\n",
       "       [-15340.,  -3280.,  -2160.,  -1000.,   -365.,    -40.],\n",
       "       ...,\n",
       "       [-16600.,  -5001.,  -4201.,  -2000.,   -365.,    -40.],\n",
       "       [-15600.,  -3320.,  -2080.,  -1000.,   -365.,    -40.],\n",
       "       [-16600.,  -4601.,  -4601.,  -2000.,   -365.,    -40.]])"
      ]
     },
     "execution_count": 17,
     "metadata": {},
     "output_type": "execute_result"
    }
   ],
   "source": [
    "np.sort(-lending_co_numeric)"
   ]
  },
  {
   "cell_type": "code",
   "execution_count": 19,
   "id": "a4c90fb6-c27d-4127-a38f-a25cda2e7795",
   "metadata": {},
   "outputs": [
    {
     "data": {
      "text/plain": [
       "array([[13621.,  4241.,  3121.,  2000.,   365.,    40.],\n",
       "       [15041.,  4171.,  3061.,  2000.,   365.,    40.],\n",
       "       [15340.,  3280.,  2160.,  1000.,   365.,    40.],\n",
       "       ...,\n",
       "       [16600.,  5001.,  4201.,  2000.,   365.,    40.],\n",
       "       [15600.,  3320.,  2080.,  1000.,   365.,    40.],\n",
       "       [16600.,  4601.,  4601.,  2000.,   365.,    40.]])"
      ]
     },
     "execution_count": 19,
     "metadata": {},
     "output_type": "execute_result"
    }
   ],
   "source": [
    "-np.sort(-lending_co_numeric)"
   ]
  },
  {
   "cell_type": "code",
   "execution_count": 21,
   "id": "b4276ce2-ffa2-4ad1-a08b-6dfd4b5a346d",
   "metadata": {},
   "outputs": [
    {
     "data": {
      "text/plain": [
       "array([[ 2000.,    40.,   365.,  3121.,  4241., 13621.],\n",
       "       [ 2000.,    40.,   365.,  3061.,  4171., 15041.],\n",
       "       [ 1000.,    40.,   365.,  2160.,  3280., 15340.],\n",
       "       ...,\n",
       "       [ 2000.,    40.,   365.,  4201.,  5001., 16600.],\n",
       "       [ 1000.,    40.,   365.,  2080.,  3320., 15600.],\n",
       "       [ 2000.,    40.,   365.,  4601.,  4601., 16600.]])"
      ]
     },
     "execution_count": 21,
     "metadata": {},
     "output_type": "execute_result"
    }
   ],
   "source": [
    "lending_co_numeric"
   ]
  },
  {
   "cell_type": "code",
   "execution_count": 25,
   "id": "4b12301b-4a3d-41e1-aba2-4a5fa22be5b3",
   "metadata": {},
   "outputs": [
    {
     "data": {
      "text/plain": [
       "array([-2870., -2550., -2450., ..., 16751., 17650., 19001.])"
      ]
     },
     "execution_count": 25,
     "metadata": {},
     "output_type": "execute_result"
    }
   ],
   "source": [
    "np.sort(lending_co_numeric[:,3])"
   ]
  },
  {
   "cell_type": "code",
   "execution_count": 27,
   "id": "1f8929a1-6b2f-4f8f-9f49-e33e0c6396c0",
   "metadata": {},
   "outputs": [
    {
     "data": {
      "text/plain": [
       "array([[ 2000.,    40.,   365.,  3121.,  4241., 13621.],\n",
       "       [ 2000.,    40.,   365.,  3061.,  4171., 15041.],\n",
       "       [ 1000.,    40.,   365.,  2160.,  3280., 15340.],\n",
       "       ...,\n",
       "       [ 2000.,    40.,   365.,  4201.,  5001., 16600.],\n",
       "       [ 1000.,    40.,   365.,  2080.,  3320., 15600.],\n",
       "       [ 2000.,    40.,   365.,  4601.,  4601., 16600.]])"
      ]
     },
     "execution_count": 27,
     "metadata": {},
     "output_type": "execute_result"
    }
   ],
   "source": [
    "lending_co_numeric = np.loadtxt(\"C:\\\\Users\\\\brand\\\\Downloads\\\\Data Analyst Course\\\\S27 - NumPy Preprocessing\\\\Lending-company-Numeric.csv\", delimiter= ',')\n",
    "lending_co_numeric"
   ]
  },
  {
   "cell_type": "code",
   "execution_count": 29,
   "id": "22b5a4e6-a963-4276-bb52-e92dff8cf0fc",
   "metadata": {},
   "outputs": [
    {
     "data": {
      "text/plain": [
       "array([[1, 2, 0, 3, 4, 5],\n",
       "       [1, 2, 0, 3, 4, 5],\n",
       "       [1, 2, 0, 3, 4, 5],\n",
       "       ...,\n",
       "       [1, 2, 0, 3, 4, 5],\n",
       "       [1, 2, 0, 3, 4, 5],\n",
       "       [1, 2, 0, 3, 4, 5]], dtype=int64)"
      ]
     },
     "execution_count": 29,
     "metadata": {},
     "output_type": "execute_result"
    }
   ],
   "source": [
    "np.argsort(lending_co_numeric)"
   ]
  },
  {
   "cell_type": "code",
   "execution_count": 31,
   "id": "333f1a47-5927-4e8d-8016-c02fbb41b7b1",
   "metadata": {},
   "outputs": [
    {
     "data": {
      "text/plain": [
       "array([[ 537,  443,    0,   32,   32,  482],\n",
       "       [ 639,  327,  687,  166,  166,  493],\n",
       "       [ 849,  432,  688,   85,   85,  166],\n",
       "       ...,\n",
       "       [  27,  326,  355,  568, 1019,  568],\n",
       "       [ 277,   27,  357,  718, 1033,  534],\n",
       "       [ 420,  408, 1042,  912,  912,   27]], dtype=int64)"
      ]
     },
     "execution_count": 31,
     "metadata": {},
     "output_type": "execute_result"
    }
   ],
   "source": [
    "np.argsort(lending_co_numeric, axis = 0)"
   ]
  },
  {
   "cell_type": "code",
   "execution_count": 33,
   "id": "c13c1a3b-4d99-4067-b442-98007b0b4356",
   "metadata": {},
   "outputs": [
    {
     "data": {
      "text/plain": [
       "-350.0"
      ]
     },
     "execution_count": 33,
     "metadata": {},
     "output_type": "execute_result"
    }
   ],
   "source": [
    "lending_co_numeric[482, 5]"
   ]
  },
  {
   "cell_type": "code",
   "execution_count": 35,
   "id": "8d3bb491-84bb-4b30-b261-481c0bde2591",
   "metadata": {},
   "outputs": [
    {
     "data": {
      "text/plain": [
       "array([537, 639, 849, ...,  27, 277, 420], dtype=int64)"
      ]
     },
     "execution_count": 35,
     "metadata": {},
     "output_type": "execute_result"
    }
   ],
   "source": [
    "np.argsort(lending_co_numeric[:,0])"
   ]
  },
  {
   "cell_type": "code",
   "execution_count": 39,
   "id": "b742171f-80ce-46ee-9984-c3c6fdaa54d2",
   "metadata": {},
   "outputs": [
    {
     "data": {
      "text/plain": [
       "array([[ 1000.,    40.,   365.,  2200.,  3400., 15600.],\n",
       "       [ 1000.,    40.,   365.,  2240.,  3680., 15600.],\n",
       "       [ 1000.,    40.,   365.,  2575.,  3635., 15600.],\n",
       "       ...,\n",
       "       [ 9000.,   125.,   365., 13001., 16726., 54625.],\n",
       "       [ 9000.,   125.,   365., 10001., 10501., 24126.],\n",
       "       [ 9000.,   125.,   365., 12251., 14251., 25626.]])"
      ]
     },
     "execution_count": 39,
     "metadata": {},
     "output_type": "execute_result"
    }
   ],
   "source": [
    "lending_co_numeric = lending_co_numeric[np.argsort(lending_co_numeric[:,0])]\n",
    "lending_co_numeric"
   ]
  },
  {
   "cell_type": "code",
   "execution_count": 41,
   "id": "56d653b4-c964-4a33-8408-95eab6f8ef08",
   "metadata": {},
   "outputs": [
    {
     "data": {
      "text/plain": [
       "array([[   0,  216,    0,  106,  106,   18],\n",
       "       [ 155,  130,  687,  145,  145,    6],\n",
       "       [ 156,  176,  688,   15,   15,  145],\n",
       "       ...,\n",
       "       [1022, 1042,  355, 1038, 1026, 1040],\n",
       "       [1031, 1024,  357,  871, 1033, 1033],\n",
       "       [1042, 1023, 1042, 1035, 1035, 1023]], dtype=int64)"
      ]
     },
     "execution_count": 41,
     "metadata": {},
     "output_type": "execute_result"
    }
   ],
   "source": [
    "lending_co_numeric.argsort(axis = 0)"
   ]
  },
  {
   "cell_type": "code",
   "execution_count": 43,
   "id": "61756768-a261-42d1-8ced-622e81356528",
   "metadata": {},
   "outputs": [
    {
     "data": {
      "text/plain": [
       "array([[ 1000.,    40.,   365.,  2200.,  3400., 15600.],\n",
       "       [ 1000.,    40.,   365.,  2240.,  3680., 15600.],\n",
       "       [ 1000.,    40.,   365.,  2575.,  3635., 15600.],\n",
       "       ...,\n",
       "       [ 9000.,   125.,   365., 13001., 16726., 54625.],\n",
       "       [ 9000.,   125.,   365., 10001., 10501., 24126.],\n",
       "       [ 9000.,   125.,   365., 12251., 14251., 25626.]])"
      ]
     },
     "execution_count": 43,
     "metadata": {},
     "output_type": "execute_result"
    }
   ],
   "source": [
    "lending_co_numeric"
   ]
  },
  {
   "cell_type": "code",
   "execution_count": 45,
   "id": "362873b2-2ac2-4af7-b925-e81acc14fe1c",
   "metadata": {},
   "outputs": [
    {
     "data": {
      "text/plain": [
       "array([[   0,    0],\n",
       "       [   0,    1],\n",
       "       [   0,    2],\n",
       "       ...,\n",
       "       [1042,    3],\n",
       "       [1042,    4],\n",
       "       [1042,    5]], dtype=int64)"
      ]
     },
     "execution_count": 45,
     "metadata": {},
     "output_type": "execute_result"
    }
   ],
   "source": [
    "np.argwhere(lending_co_numeric)"
   ]
  },
  {
   "cell_type": "code",
   "execution_count": 47,
   "id": "24e55fce-14cd-48ad-aef3-e1e8e2f9d863",
   "metadata": {},
   "outputs": [
    {
     "data": {
      "text/plain": [
       "array([[ 64,   4],\n",
       "       [181,   3]], dtype=int64)"
      ]
     },
     "execution_count": 47,
     "metadata": {},
     "output_type": "execute_result"
    }
   ],
   "source": [
    "np.argwhere(lending_co_numeric == False)"
   ]
  },
  {
   "cell_type": "code",
   "execution_count": 51,
   "id": "2993a31d-b5fc-43b5-bb53-26ab483a86ce",
   "metadata": {},
   "outputs": [
    {
     "data": {
      "text/plain": [
       "array([ 1000.,    50.,   365., -1450.,     0., 13850.])"
      ]
     },
     "execution_count": 51,
     "metadata": {},
     "output_type": "execute_result"
    }
   ],
   "source": [
    "lending_co_numeric[64]"
   ]
  },
  {
   "cell_type": "code",
   "execution_count": 53,
   "id": "b75c5733-d8ad-493b-bf0c-9bd0a0d962c3",
   "metadata": {},
   "outputs": [
    {
     "data": {
      "text/plain": [
       "array([[ 1000.,    40.,   365.,  2200.,  3400., 15600.],\n",
       "       [ 1000.,    40.,   365.,  2240.,  3680., 15600.],\n",
       "       [ 1000.,    40.,   365.,  2575.,  3635., 15600.],\n",
       "       ...,\n",
       "       [ 9000.,   125.,   365., 13001., 16726., 54625.],\n",
       "       [ 9000.,   125.,   365., 10001., 10501., 24126.],\n",
       "       [ 9000.,   125.,   365., 12251., 14251., 25626.]])"
      ]
     },
     "execution_count": 53,
     "metadata": {},
     "output_type": "execute_result"
    }
   ],
   "source": [
    "lending_co_numeric"
   ]
  },
  {
   "cell_type": "code",
   "execution_count": 55,
   "id": "251d0d5c-f251-4f75-9818-f0e4e37e636b",
   "metadata": {},
   "outputs": [
    {
     "data": {
      "text/plain": [
       "array([[   0,    0],\n",
       "       [   0,    1],\n",
       "       [   0,    3],\n",
       "       ...,\n",
       "       [1041,    5],\n",
       "       [1042,    0],\n",
       "       [1042,    5]], dtype=int64)"
      ]
     },
     "execution_count": 55,
     "metadata": {},
     "output_type": "execute_result"
    }
   ],
   "source": [
    "np.argwhere(lending_co_numeric %2 ==0)"
   ]
  },
  {
   "cell_type": "code",
   "execution_count": 57,
   "id": "8a22992a-e8de-481d-94d8-47d03a3f5ff6",
   "metadata": {},
   "outputs": [
    {
     "data": {
      "text/plain": [
       "array([[ 1000,    40,   365,  2200,  3400, 15600],\n",
       "       [ 1000,    40,   365,  2240,  3680, 15600],\n",
       "       [ 1000,    40,   365,  2575,  3635, 15600],\n",
       "       ...,\n",
       "       [ 9000,   125,   365, 13001, 16726, 54625],\n",
       "       [ 9000,   125,   365, 10001, 10501, 24126],\n",
       "       [ 9000,   125,   365, 12251, 14251, 25626]])"
      ]
     },
     "execution_count": 57,
     "metadata": {},
     "output_type": "execute_result"
    }
   ],
   "source": [
    "lending_co_numeric.astype(dtype = np.int32)"
   ]
  },
  {
   "cell_type": "code",
   "execution_count": 59,
   "id": "df077edf-839f-4a33-8462-bb728a774b06",
   "metadata": {
    "scrolled": true
   },
   "outputs": [
    {
     "name": "stderr",
     "output_type": "stream",
     "text": [
      "C:\\Users\\brand\\AppData\\Local\\Temp\\ipykernel_14644\\3315327498.py:1: FutureWarning: In the future `np.str` will be defined as the corresponding NumPy scalar.\n",
      "  lending_co_numeric.astype(dtype = np.str)\n"
     ]
    },
    {
     "ename": "AttributeError",
     "evalue": "module 'numpy' has no attribute 'str'.\n`np.str` was a deprecated alias for the builtin `str`. To avoid this error in existing code, use `str` by itself. Doing this will not modify any behavior and is safe. If you specifically wanted the numpy scalar type, use `np.str_` here.\nThe aliases was originally deprecated in NumPy 1.20; for more details and guidance see the original release note at:\n    https://numpy.org/devdocs/release/1.20.0-notes.html#deprecations",
     "output_type": "error",
     "traceback": [
      "\u001b[1;31m---------------------------------------------------------------------------\u001b[0m",
      "\u001b[1;31mAttributeError\u001b[0m                            Traceback (most recent call last)",
      "Cell \u001b[1;32mIn[59], line 1\u001b[0m\n\u001b[1;32m----> 1\u001b[0m lending_co_numeric\u001b[38;5;241m.\u001b[39mastype(dtype \u001b[38;5;241m=\u001b[39m np\u001b[38;5;241m.\u001b[39mstr)\n",
      "File \u001b[1;32m~\\anaconda3\\Lib\\site-packages\\numpy\\__init__.py:324\u001b[0m, in \u001b[0;36m__getattr__\u001b[1;34m(attr)\u001b[0m\n\u001b[0;32m    319\u001b[0m     warnings\u001b[38;5;241m.\u001b[39mwarn(\n\u001b[0;32m    320\u001b[0m         \u001b[38;5;124mf\u001b[39m\u001b[38;5;124m\"\u001b[39m\u001b[38;5;124mIn the future `np.\u001b[39m\u001b[38;5;132;01m{\u001b[39;00mattr\u001b[38;5;132;01m}\u001b[39;00m\u001b[38;5;124m` will be defined as the \u001b[39m\u001b[38;5;124m\"\u001b[39m\n\u001b[0;32m    321\u001b[0m         \u001b[38;5;124m\"\u001b[39m\u001b[38;5;124mcorresponding NumPy scalar.\u001b[39m\u001b[38;5;124m\"\u001b[39m, \u001b[38;5;167;01mFutureWarning\u001b[39;00m, stacklevel\u001b[38;5;241m=\u001b[39m\u001b[38;5;241m2\u001b[39m)\n\u001b[0;32m    323\u001b[0m \u001b[38;5;28;01mif\u001b[39;00m attr \u001b[38;5;129;01min\u001b[39;00m __former_attrs__:\n\u001b[1;32m--> 324\u001b[0m     \u001b[38;5;28;01mraise\u001b[39;00m \u001b[38;5;167;01mAttributeError\u001b[39;00m(__former_attrs__[attr])\n\u001b[0;32m    326\u001b[0m \u001b[38;5;28;01mif\u001b[39;00m attr \u001b[38;5;241m==\u001b[39m \u001b[38;5;124m'\u001b[39m\u001b[38;5;124mtesting\u001b[39m\u001b[38;5;124m'\u001b[39m:\n\u001b[0;32m    327\u001b[0m     \u001b[38;5;28;01mimport\u001b[39;00m \u001b[38;5;21;01mnumpy\u001b[39;00m\u001b[38;5;21;01m.\u001b[39;00m\u001b[38;5;21;01mtesting\u001b[39;00m \u001b[38;5;28;01mas\u001b[39;00m \u001b[38;5;21;01mtesting\u001b[39;00m\n",
      "\u001b[1;31mAttributeError\u001b[0m: module 'numpy' has no attribute 'str'.\n`np.str` was a deprecated alias for the builtin `str`. To avoid this error in existing code, use `str` by itself. Doing this will not modify any behavior and is safe. If you specifically wanted the numpy scalar type, use `np.str_` here.\nThe aliases was originally deprecated in NumPy 1.20; for more details and guidance see the original release note at:\n    https://numpy.org/devdocs/release/1.20.0-notes.html#deprecations"
     ]
    }
   ],
   "source": [
    "lending_co_numeric.astype(dtype = np.str)"
   ]
  },
  {
   "cell_type": "code",
   "execution_count": 63,
   "id": "5d6dc449-eb31-45f5-bb5f-335f975ebba2",
   "metadata": {},
   "outputs": [
    {
     "data": {
      "text/plain": [
       "array([[ 1000,    40,   365,  2200,  3400, 15600],\n",
       "       [ 1000,    40,   365,  2240,  3680, 15600],\n",
       "       [ 1000,    40,   365,  2575,  3635, 15600],\n",
       "       ...,\n",
       "       [ 9000,   125,   365, 13001, 16726, 54625],\n",
       "       [ 9000,   125,   365, 10001, 10501, 24126],\n",
       "       [ 9000,   125,   365, 12251, 14251, 25626]])"
      ]
     },
     "execution_count": 63,
     "metadata": {},
     "output_type": "execute_result"
    }
   ],
   "source": [
    "lending_co_numeric.astype(dtype = np.int32)"
   ]
  },
  {
   "cell_type": "code",
   "execution_count": 3,
   "id": "49f803c9-85f3-4e06-9365-0336c975d9f0",
   "metadata": {},
   "outputs": [
    {
     "data": {
      "text/plain": [
       "array([[ 2000.,    40.,   365.,  3121.,  4241., 13621.],\n",
       "       [ 2000.,    40.,   365.,  3061.,  4171., 15041.],\n",
       "       [ 1000.,    40.,   365.,  2160.,  3280., 15340.],\n",
       "       ...,\n",
       "       [ 2000.,    40.,   365.,  4201.,  5001., 16600.],\n",
       "       [ 1000.,    40.,   365.,  2080.,  3320., 15600.],\n",
       "       [ 2000.,    40.,   365.,  4601.,  4601., 16600.]])"
      ]
     },
     "execution_count": 3,
     "metadata": {},
     "output_type": "execute_result"
    }
   ],
   "source": [
    "lending_co_numeric = np.loadtxt(\"C:\\\\Users\\\\brand\\\\Downloads\\\\Data Analyst Course\\\\S27 - NumPy Preprocessing\\\\Lending-company-Numeric.csv\", delimiter= ',')\n",
    "lending_co_numeric\n",
    "\n"
   ]
  },
  {
   "cell_type": "code",
   "execution_count": 5,
   "id": "32d6e2be-7ed0-4cab-99e7-41e76f7487ec",
   "metadata": {},
   "outputs": [
    {
     "data": {
      "text/plain": [
       "array([[ 2000.,    40.,   365.,  3121.,  4241., 13621.],\n",
       "       [ 2000.,    40.,   365.,  3061.,  4171., 15041.],\n",
       "       [ 1000.,    40.,   365.,  2160.,  3280., 15340.],\n",
       "       ...,\n",
       "       [   nan,    40.,   365.,  4201.,  5001., 16600.],\n",
       "       [ 1000.,    40.,   365.,  2080.,  3320., 15600.],\n",
       "       [ 2000.,    40.,   365.,  4601.,  4601., 16600.]])"
      ]
     },
     "execution_count": 5,
     "metadata": {},
     "output_type": "execute_result"
    }
   ],
   "source": [
    "lending_co_data_nan = np.genfromtxt(\"C:\\\\Users\\\\brand\\\\Downloads\\\\Data Analyst Course\\\\S27 - NumPy Preprocessing\\\\Lending-company-Numeric-NAN.csv\", delimiter= ';')\n",
    "lending_co_data_nan"
   ]
  },
  {
   "cell_type": "code",
   "execution_count": 53,
   "id": "9056da86-ea18-4680-b2dc-8a8c361dc532",
   "metadata": {},
   "outputs": [
    {
     "data": {
      "text/plain": [
       "array([[ 2000.  ,    40.  ,   365.  ,  3121.  ,  4241.  , 13621.  ],\n",
       "       [ 2000.  ,    40.  ,   365.  ,  3061.  ,  4171.  , 15041.  ],\n",
       "       [ 1000.  ,    40.  ,   365.  ,  2160.  ,  3280.  , 15340.  ],\n",
       "       ...,\n",
       "       [ 2315.87,    40.  ,   365.  ,  4201.  ,  5001.  , 16600.  ],\n",
       "       [ 1000.  ,    40.  ,   365.  ,  2080.  ,  3320.  , 15600.  ],\n",
       "       [ 2000.  ,    40.  ,   365.  ,  4601.  ,  4601.  , 16600.  ]])"
      ]
     },
     "execution_count": 53,
     "metadata": {},
     "output_type": "execute_result"
    }
   ],
   "source": [
    "temporary_fill = np.nanmax(lending_co_data_nan).round(2) + 1\n",
    "temporary_mean = np.nanmean(lending_co_data_nan, axis = 0).round(2)\n",
    "\n",
    "lending_co_data_nan = np.genfromtxt(\"C:\\\\Users\\\\brand\\\\Downloads\\\\Data Analyst Course\\\\S27 - NumPy Preprocessing\\\\Lending-company-Numeric-NAN.csv\", delimiter= ';', filling_values = temporary_fill)\n",
    "\n",
    "\n",
    "for i in range(lending_co_data_nan.shape[1]):\n",
    "    lending_co_data_nan[:, i] = np.where(lending_co_data_nan[:, i] == temporary_fill, temporary_mean[i], lending_co_data_nan[:, i])\n",
    "\n",
    "\n",
    "lending_co_data_nan"
   ]
  },
  {
   "cell_type": "code",
   "execution_count": 13,
   "id": "a9916eb1-5400-444c-abba-751a33b5e62c",
   "metadata": {},
   "outputs": [
    {
     "data": {
      "text/plain": [
       "array([[2000., 2000., 1000., ..., 2000., 1000., 2000.],\n",
       "       [  40.,   40.,   40., ...,   40.,   40.,   40.]])"
      ]
     },
     "execution_count": 13,
     "metadata": {},
     "output_type": "execute_result"
    }
   ],
   "source": [
    "np.stack((lending_co_numeric[:,0], lending_co_numeric[:,1] ))"
   ]
  },
  {
   "cell_type": "code",
   "execution_count": 15,
   "id": "7c044551-217e-499a-855f-5d79a72595b0",
   "metadata": {},
   "outputs": [
    {
     "data": {
      "text/plain": [
       "array([[2000., 2000., 1000., ..., 2000., 1000., 2000.],\n",
       "       [  40.,   40.,   40., ...,   40.,   40.,   40.]])"
      ]
     },
     "execution_count": 15,
     "metadata": {},
     "output_type": "execute_result"
    }
   ],
   "source": [
    "np.transpose(lending_co_numeric[:,:2])"
   ]
  },
  {
   "cell_type": "code",
   "execution_count": 17,
   "id": "14727273-ff11-4691-9c5d-96bae84bf9b6",
   "metadata": {},
   "outputs": [
    {
     "data": {
      "text/plain": [
       "array([[  40.,   40.,   40., ...,   40.,   40.,   40.],\n",
       "       [2000., 2000., 1000., ..., 2000., 1000., 2000.]])"
      ]
     },
     "execution_count": 17,
     "metadata": {},
     "output_type": "execute_result"
    }
   ],
   "source": [
    "np.stack((lending_co_numeric[:,1], lending_co_numeric[:,0] ))"
   ]
  },
  {
   "cell_type": "code",
   "execution_count": 19,
   "id": "ab0c8cc3-6535-48e4-888f-e127c4eef433",
   "metadata": {},
   "outputs": [
    {
     "data": {
      "text/plain": [
       "array([[2000.,   40.],\n",
       "       [2000.,   40.],\n",
       "       [1000.,   40.],\n",
       "       ...,\n",
       "       [2000.,   40.],\n",
       "       [1000.,   40.],\n",
       "       [2000.,   40.]])"
      ]
     },
     "execution_count": 19,
     "metadata": {},
     "output_type": "execute_result"
    }
   ],
   "source": [
    "np.stack((lending_co_numeric[:,0], lending_co_numeric[:,1]), axis = 1)"
   ]
  },
  {
   "cell_type": "code",
   "execution_count": 21,
   "id": "7bfc922f-1313-4ce3-9cc8-fb0848d60e9d",
   "metadata": {},
   "outputs": [
    {
     "data": {
      "text/plain": [
       "array([[2000.,   40.,  365.],\n",
       "       [2000.,   40.,  365.],\n",
       "       [1000.,   40.,  365.],\n",
       "       ...,\n",
       "       [2000.,   40.,  365.],\n",
       "       [1000.,   40.,  365.],\n",
       "       [2000.,   40.,  365.]])"
      ]
     },
     "execution_count": 21,
     "metadata": {},
     "output_type": "execute_result"
    }
   ],
   "source": [
    "np.stack((lending_co_numeric[:,0], lending_co_numeric[:,1],  lending_co_numeric[:,2]), axis = 1)"
   ]
  },
  {
   "cell_type": "code",
   "execution_count": 25,
   "id": "486dda2b-2afc-43d5-b7b7-f4bae6ad2521",
   "metadata": {},
   "outputs": [
    {
     "data": {
      "text/plain": [
       "(1043, 6)"
      ]
     },
     "execution_count": 25,
     "metadata": {},
     "output_type": "execute_result"
    }
   ],
   "source": [
    " lending_co_numeric.shape"
   ]
  },
  {
   "cell_type": "code",
   "execution_count": 27,
   "id": "d926d069-b2fe-4494-b068-ade1fd1bea0f",
   "metadata": {},
   "outputs": [
    {
     "data": {
      "text/plain": [
       "array([[ 2000.  ,    40.  ,   365.  ,  3121.  ,  4241.  , 13621.  ],\n",
       "       [ 2000.  ,    40.  ,   365.  ,  3061.  ,  4171.  , 15041.  ],\n",
       "       [ 1000.  ,    40.  ,   365.  ,  2160.  ,  3280.  , 15340.  ],\n",
       "       ...,\n",
       "       [ 4263.28,    40.  ,   365.  ,  4201.  ,  5001.  , 16600.  ],\n",
       "       [ 1000.  ,    40.  ,   365.  ,  2080.  ,  3320.  , 15600.  ],\n",
       "       [ 2000.  ,    40.  ,   365.  ,  4601.  ,  4601.  , 16600.  ]])"
      ]
     },
     "execution_count": 27,
     "metadata": {},
     "output_type": "execute_result"
    }
   ],
   "source": [
    "np.vstack(( lending_co_numeric, lending_co_data_nan))"
   ]
  },
  {
   "cell_type": "code",
   "execution_count": 29,
   "id": "f6649006-7406-4b62-aa1e-1f076283bf1b",
   "metadata": {},
   "outputs": [
    {
     "data": {
      "text/plain": [
       "(2086, 6)"
      ]
     },
     "execution_count": 29,
     "metadata": {},
     "output_type": "execute_result"
    }
   ],
   "source": [
    "np.vstack(( lending_co_numeric, lending_co_data_nan)).shape"
   ]
  },
  {
   "cell_type": "code",
   "execution_count": 31,
   "id": "0d86e48d-2c07-4964-9d44-b042c2706f0f",
   "metadata": {},
   "outputs": [
    {
     "data": {
      "text/plain": [
       "array([[ 2000.,    40.,   365., ...,  3121.,  4241., 13621.],\n",
       "       [ 2000.,    40.,   365., ...,  3061.,  4171., 15041.],\n",
       "       [ 1000.,    40.,   365., ...,  2160.,  3280., 15340.],\n",
       "       ...,\n",
       "       [ 2000.,    40.,   365., ...,  4201.,  5001., 16600.],\n",
       "       [ 1000.,    40.,   365., ...,  2080.,  3320., 15600.],\n",
       "       [ 2000.,    40.,   365., ...,  4601.,  4601., 16600.]])"
      ]
     },
     "execution_count": 31,
     "metadata": {},
     "output_type": "execute_result"
    }
   ],
   "source": [
    "np.hstack(( lending_co_numeric, lending_co_data_nan))"
   ]
  },
  {
   "cell_type": "code",
   "execution_count": 33,
   "id": "a705bdd9-ee2c-459b-bdca-4a97a63d1d91",
   "metadata": {},
   "outputs": [
    {
     "data": {
      "text/plain": [
       "(1043, 12)"
      ]
     },
     "execution_count": 33,
     "metadata": {},
     "output_type": "execute_result"
    }
   ],
   "source": [
    "np.hstack(( lending_co_numeric, lending_co_data_nan)).shape"
   ]
  },
  {
   "cell_type": "code",
   "execution_count": 35,
   "id": "4a138b8e-a49f-4d69-8f4e-1dc0a31f2ca5",
   "metadata": {},
   "outputs": [
    {
     "data": {
      "text/plain": [
       "array([[[ 2000.  ,  2000.  ],\n",
       "        [   40.  ,    40.  ],\n",
       "        [  365.  ,   365.  ],\n",
       "        [ 3121.  ,  3121.  ],\n",
       "        [ 4241.  ,  4241.  ],\n",
       "        [13621.  , 13621.  ]],\n",
       "\n",
       "       [[ 2000.  ,  2000.  ],\n",
       "        [   40.  ,    40.  ],\n",
       "        [  365.  ,   365.  ],\n",
       "        [ 3061.  ,  3061.  ],\n",
       "        [ 4171.  ,  4171.  ],\n",
       "        [15041.  , 15041.  ]],\n",
       "\n",
       "       [[ 1000.  ,  1000.  ],\n",
       "        [   40.  ,    40.  ],\n",
       "        [  365.  ,   365.  ],\n",
       "        [ 2160.  ,  2160.  ],\n",
       "        [ 3280.  ,  3280.  ],\n",
       "        [15340.  , 15340.  ]],\n",
       "\n",
       "       ...,\n",
       "\n",
       "       [[ 2000.  ,  4263.28],\n",
       "        [   40.  ,    40.  ],\n",
       "        [  365.  ,   365.  ],\n",
       "        [ 4201.  ,  4201.  ],\n",
       "        [ 5001.  ,  5001.  ],\n",
       "        [16600.  , 16600.  ]],\n",
       "\n",
       "       [[ 1000.  ,  1000.  ],\n",
       "        [   40.  ,    40.  ],\n",
       "        [  365.  ,   365.  ],\n",
       "        [ 2080.  ,  2080.  ],\n",
       "        [ 3320.  ,  3320.  ],\n",
       "        [15600.  , 15600.  ]],\n",
       "\n",
       "       [[ 2000.  ,  2000.  ],\n",
       "        [   40.  ,    40.  ],\n",
       "        [  365.  ,   365.  ],\n",
       "        [ 4601.  ,  4601.  ],\n",
       "        [ 4601.  ,  4601.  ],\n",
       "        [16600.  , 16600.  ]]])"
      ]
     },
     "execution_count": 35,
     "metadata": {},
     "output_type": "execute_result"
    }
   ],
   "source": [
    "np.dstack(( lending_co_numeric, lending_co_data_nan))"
   ]
  },
  {
   "cell_type": "code",
   "execution_count": 37,
   "id": "ad8405f3-6d33-4038-a244-612a798e1d06",
   "metadata": {},
   "outputs": [
    {
     "data": {
      "text/plain": [
       "(1043, 6, 2)"
      ]
     },
     "execution_count": 37,
     "metadata": {},
     "output_type": "execute_result"
    }
   ],
   "source": [
    "np.dstack(( lending_co_numeric, lending_co_data_nan)).shape\n"
   ]
  },
  {
   "cell_type": "code",
   "execution_count": 39,
   "id": "395f6cd2-8cb5-4d4c-a948-fa717100a6be",
   "metadata": {},
   "outputs": [
    {
     "data": {
      "text/plain": [
       "array([[ 2000.,  2000.],\n",
       "       [   40.,    40.],\n",
       "       [  365.,   365.],\n",
       "       [ 3121.,  3121.],\n",
       "       [ 4241.,  4241.],\n",
       "       [13621., 13621.]])"
      ]
     },
     "execution_count": 39,
     "metadata": {},
     "output_type": "execute_result"
    }
   ],
   "source": [
    "np.dstack(( lending_co_numeric, lending_co_data_nan))[0]"
   ]
  },
  {
   "cell_type": "code",
   "execution_count": 41,
   "id": "b05bf97c-fb52-4061-aeb1-4585e655c288",
   "metadata": {},
   "outputs": [
    {
     "data": {
      "text/plain": [
       "array([2000., 2000.])"
      ]
     },
     "execution_count": 41,
     "metadata": {},
     "output_type": "execute_result"
    }
   ],
   "source": [
    "np.dstack(( lending_co_numeric, lending_co_data_nan))[0,0]"
   ]
  },
  {
   "cell_type": "code",
   "execution_count": 43,
   "id": "077bffa4-9015-46b7-b20b-484d01bd3e88",
   "metadata": {},
   "outputs": [
    {
     "data": {
      "text/plain": [
       "array([ 2000.,    40.,   365.,  3121.,  4241., 13621.])"
      ]
     },
     "execution_count": 43,
     "metadata": {},
     "output_type": "execute_result"
    }
   ],
   "source": [
    "np.dstack(( lending_co_numeric, lending_co_data_nan))[0,:,0]"
   ]
  },
  {
   "cell_type": "code",
   "execution_count": 47,
   "id": "54557ab7-8210-4a77-b317-a4c45988e9bc",
   "metadata": {},
   "outputs": [
    {
     "data": {
      "text/plain": [
       "array([[[ 2000.  ,  2000.  ],\n",
       "        [   40.  ,    40.  ],\n",
       "        [  365.  ,   365.  ],\n",
       "        [ 3121.  ,  3121.  ],\n",
       "        [ 4241.  ,  4241.  ],\n",
       "        [13621.  , 13621.  ]],\n",
       "\n",
       "       [[ 2000.  ,  2000.  ],\n",
       "        [   40.  ,    40.  ],\n",
       "        [  365.  ,   365.  ],\n",
       "        [ 3061.  ,  3061.  ],\n",
       "        [ 4171.  ,  4171.  ],\n",
       "        [15041.  , 15041.  ]],\n",
       "\n",
       "       [[ 1000.  ,  1000.  ],\n",
       "        [   40.  ,    40.  ],\n",
       "        [  365.  ,   365.  ],\n",
       "        [ 2160.  ,  2160.  ],\n",
       "        [ 3280.  ,  3280.  ],\n",
       "        [15340.  , 15340.  ]],\n",
       "\n",
       "       ...,\n",
       "\n",
       "       [[ 2000.  ,  4263.28],\n",
       "        [   40.  ,    40.  ],\n",
       "        [  365.  ,   365.  ],\n",
       "        [ 4201.  ,  4201.  ],\n",
       "        [ 5001.  ,  5001.  ],\n",
       "        [16600.  , 16600.  ]],\n",
       "\n",
       "       [[ 1000.  ,  1000.  ],\n",
       "        [   40.  ,    40.  ],\n",
       "        [  365.  ,   365.  ],\n",
       "        [ 2080.  ,  2080.  ],\n",
       "        [ 3320.  ,  3320.  ],\n",
       "        [15600.  , 15600.  ]],\n",
       "\n",
       "       [[ 2000.  ,  2000.  ],\n",
       "        [   40.  ,    40.  ],\n",
       "        [  365.  ,   365.  ],\n",
       "        [ 4601.  ,  4601.  ],\n",
       "        [ 4601.  ,  4601.  ],\n",
       "        [16600.  , 16600.  ]]])"
      ]
     },
     "execution_count": 47,
     "metadata": {},
     "output_type": "execute_result"
    }
   ],
   "source": [
    "np.stack(( lending_co_numeric, lending_co_data_nan), axis = -1)\n"
   ]
  },
  {
   "cell_type": "code",
   "execution_count": 51,
   "id": "c9be0b1e-69c2-437d-84b4-fedbeadbd847",
   "metadata": {},
   "outputs": [
    {
     "data": {
      "text/plain": [
       "array([ 2000.,    40.,   365.,  3121.,  4241., 13621.,  2000.,    40.,\n",
       "         365.,  3061.,  4171., 15041.])"
      ]
     },
     "execution_count": 51,
     "metadata": {},
     "output_type": "execute_result"
    }
   ],
   "source": [
    "np.concatenate((lending_co_numeric[0,:], lending_co_numeric[1,:]))"
   ]
  },
  {
   "cell_type": "code",
   "execution_count": 55,
   "id": "3c5427c9-1ab3-48b3-83c4-19e110574c68",
   "metadata": {},
   "outputs": [
    {
     "data": {
      "text/plain": [
       "array([[ 2000.  ,    40.  ,   365.  ,  3121.  ,  4241.  , 13621.  ],\n",
       "       [ 2000.  ,    40.  ,   365.  ,  3061.  ,  4171.  , 15041.  ],\n",
       "       [ 1000.  ,    40.  ,   365.  ,  2160.  ,  3280.  , 15340.  ],\n",
       "       ...,\n",
       "       [ 2315.87,    40.  ,   365.  ,  4201.  ,  5001.  , 16600.  ],\n",
       "       [ 1000.  ,    40.  ,   365.  ,  2080.  ,  3320.  , 15600.  ],\n",
       "       [ 2000.  ,    40.  ,   365.  ,  4601.  ,  4601.  , 16600.  ]])"
      ]
     },
     "execution_count": 55,
     "metadata": {},
     "output_type": "execute_result"
    }
   ],
   "source": [
    "np.concatenate((lending_co_numeric, lending_co_data_nan))"
   ]
  },
  {
   "cell_type": "code",
   "execution_count": 57,
   "id": "6e89580f-7844-4f33-bc25-5248510376e8",
   "metadata": {},
   "outputs": [
    {
     "data": {
      "text/plain": [
       "(2086, 6)"
      ]
     },
     "execution_count": 57,
     "metadata": {},
     "output_type": "execute_result"
    }
   ],
   "source": [
    "np.concatenate((lending_co_numeric, lending_co_data_nan)).shape"
   ]
  },
  {
   "cell_type": "code",
   "execution_count": 61,
   "id": "d4bf2b2e-c84f-46fd-8a95-66f4d36b7b48",
   "metadata": {},
   "outputs": [
    {
     "data": {
      "text/plain": [
       "array([[ 2000.,    40.,   365., ...,  3121.,  4241., 13621.],\n",
       "       [ 2000.,    40.,   365., ...,  3061.,  4171., 15041.],\n",
       "       [ 1000.,    40.,   365., ...,  2160.,  3280., 15340.],\n",
       "       ...,\n",
       "       [ 2000.,    40.,   365., ...,  4201.,  5001., 16600.],\n",
       "       [ 1000.,    40.,   365., ...,  2080.,  3320., 15600.],\n",
       "       [ 2000.,    40.,   365., ...,  4601.,  4601., 16600.]])"
      ]
     },
     "execution_count": 61,
     "metadata": {},
     "output_type": "execute_result"
    }
   ],
   "source": [
    "np.concatenate((lending_co_numeric, lending_co_data_nan), axis = 1)"
   ]
  },
  {
   "cell_type": "code",
   "execution_count": 63,
   "id": "7baa34e3-e51f-4c8b-a4a1-d16128fee1f6",
   "metadata": {},
   "outputs": [
    {
     "data": {
      "text/plain": [
       "array([-2870., -2550., -2450., ..., 52751., 54625., 64001.])"
      ]
     },
     "execution_count": 63,
     "metadata": {},
     "output_type": "execute_result"
    }
   ],
   "source": [
    "np.unique(lending_co_numeric)"
   ]
  },
  {
   "cell_type": "code",
   "execution_count": 65,
   "id": "7f7de987-5476-422f-82bf-6f4baaed25f0",
   "metadata": {},
   "outputs": [
    {
     "data": {
      "text/plain": [
       "array([ 35.,  40.,  50., 125., 165.])"
      ]
     },
     "execution_count": 65,
     "metadata": {},
     "output_type": "execute_result"
    }
   ],
   "source": [
    "np.unique(lending_co_numeric[:,1])"
   ]
  },
  {
   "cell_type": "code",
   "execution_count": 67,
   "id": "00c824f0-cfc5-406a-ab29-41a0b060cff5",
   "metadata": {},
   "outputs": [
    {
     "data": {
      "text/plain": [
       "(array([ 35.,  40.,  50., 125., 165.]),\n",
       " array([  4, 567, 451,  19,   2], dtype=int64))"
      ]
     },
     "execution_count": 67,
     "metadata": {},
     "output_type": "execute_result"
    }
   ],
   "source": [
    "np.unique(lending_co_numeric[:,1], return_counts= True)"
   ]
  },
  {
   "cell_type": "code",
   "execution_count": 69,
   "id": "6010e984-5ebc-447e-8eb2-11ef8a996489",
   "metadata": {},
   "outputs": [
    {
     "data": {
      "text/plain": [
       "(array([ 35.,  40.,  50., 125., 165.]),\n",
       " array([327,   0,   4,  19,  27], dtype=int64),\n",
       " array([  4, 567, 451,  19,   2], dtype=int64))"
      ]
     },
     "execution_count": 69,
     "metadata": {},
     "output_type": "execute_result"
    }
   ],
   "source": [
    "np.unique(lending_co_numeric[:,1], return_counts= True, return_index = True)"
   ]
  },
  {
   "cell_type": "code",
   "execution_count": null,
   "id": "5f4a5826-be16-4263-bbf4-bd3944151944",
   "metadata": {},
   "outputs": [],
   "source": []
  }
 ],
 "metadata": {
  "kernelspec": {
   "display_name": "Python 3 (ipykernel)",
   "language": "python",
   "name": "python3"
  },
  "language_info": {
   "codemirror_mode": {
    "name": "ipython",
    "version": 3
   },
   "file_extension": ".py",
   "mimetype": "text/x-python",
   "name": "python",
   "nbconvert_exporter": "python",
   "pygments_lexer": "ipython3",
   "version": "3.12.7"
  }
 },
 "nbformat": 4,
 "nbformat_minor": 5
}
